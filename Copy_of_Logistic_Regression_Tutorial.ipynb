{
  "cells": [
    {
      "cell_type": "markdown",
      "metadata": {
        "id": "KQS8p9pJlp4F"
      },
      "source": [
        "# Import Python Libraries"
      ]
    },
    {
      "cell_type": "code",
      "execution_count": 158,
      "metadata": {
        "id": "ACvxXqIolwT9"
      },
      "outputs": [],
      "source": [
        "import pandas as pd\n",
        "import numpy as np\n",
        "import matplotlib.pyplot as plt\n",
        "import seaborn as sns\n"
      ]
    },
    {
      "cell_type": "markdown",
      "metadata": {
        "id": "Frc74XXemDBJ"
      },
      "source": [
        "# Load Dataset\n",
        "\n",
        "Context of the Dataset : Predict next-day rain by training classification models on the target variable RainTomorrow.\n",
        "\n",
        "**Goal: Using logistic regression to predict two discrete classes,'will RainTomorrow' or 'will not RainTomorrow,' based on a dataset of independent variables.**"
      ]
    },
    {
      "cell_type": "markdown",
      "metadata": {
        "id": "_FCzChphmaRe"
      },
      "source": [
        "\n",
        "Dataset: https://www.kaggle.com/datasets/jsphyg/weather-dataset-rattle-package"
      ]
    },
    {
      "cell_type": "code",
      "execution_count": 159,
      "metadata": {
        "colab": {
          "base_uri": "https://localhost:8080/",
          "height": 342
        },
        "id": "gZEpCDrvmb6z",
        "outputId": "f2fd6e6f-5f7d-4a06-a9ef-04220c6e46db"
      },
      "outputs": [
        {
          "data": {
            "text/html": [
              "<div>\n",
              "<style scoped>\n",
              "    .dataframe tbody tr th:only-of-type {\n",
              "        vertical-align: middle;\n",
              "    }\n",
              "\n",
              "    .dataframe tbody tr th {\n",
              "        vertical-align: top;\n",
              "    }\n",
              "\n",
              "    .dataframe thead th {\n",
              "        text-align: right;\n",
              "    }\n",
              "</style>\n",
              "<table border=\"1\" class=\"dataframe\">\n",
              "  <thead>\n",
              "    <tr style=\"text-align: right;\">\n",
              "      <th></th>\n",
              "      <th>Date</th>\n",
              "      <th>Location</th>\n",
              "      <th>MinTemp</th>\n",
              "      <th>MaxTemp</th>\n",
              "      <th>Rainfall</th>\n",
              "      <th>Evaporation</th>\n",
              "      <th>Sunshine</th>\n",
              "      <th>WindGustDir</th>\n",
              "      <th>WindGustSpeed</th>\n",
              "      <th>WindDir9am</th>\n",
              "      <th>...</th>\n",
              "      <th>Humidity9am</th>\n",
              "      <th>Humidity3pm</th>\n",
              "      <th>Pressure9am</th>\n",
              "      <th>Pressure3pm</th>\n",
              "      <th>Cloud9am</th>\n",
              "      <th>Cloud3pm</th>\n",
              "      <th>Temp9am</th>\n",
              "      <th>Temp3pm</th>\n",
              "      <th>RainToday</th>\n",
              "      <th>RainTomorrow</th>\n",
              "    </tr>\n",
              "  </thead>\n",
              "  <tbody>\n",
              "    <tr>\n",
              "      <th>0</th>\n",
              "      <td>2008-12-01</td>\n",
              "      <td>Albury</td>\n",
              "      <td>13.4</td>\n",
              "      <td>22.9</td>\n",
              "      <td>0.6</td>\n",
              "      <td>NaN</td>\n",
              "      <td>NaN</td>\n",
              "      <td>W</td>\n",
              "      <td>44.0</td>\n",
              "      <td>W</td>\n",
              "      <td>...</td>\n",
              "      <td>71.0</td>\n",
              "      <td>22.0</td>\n",
              "      <td>1007.7</td>\n",
              "      <td>1007.1</td>\n",
              "      <td>8.0</td>\n",
              "      <td>NaN</td>\n",
              "      <td>16.9</td>\n",
              "      <td>21.8</td>\n",
              "      <td>No</td>\n",
              "      <td>No</td>\n",
              "    </tr>\n",
              "    <tr>\n",
              "      <th>1</th>\n",
              "      <td>2008-12-02</td>\n",
              "      <td>Albury</td>\n",
              "      <td>7.4</td>\n",
              "      <td>25.1</td>\n",
              "      <td>0.0</td>\n",
              "      <td>NaN</td>\n",
              "      <td>NaN</td>\n",
              "      <td>WNW</td>\n",
              "      <td>44.0</td>\n",
              "      <td>NNW</td>\n",
              "      <td>...</td>\n",
              "      <td>44.0</td>\n",
              "      <td>25.0</td>\n",
              "      <td>1010.6</td>\n",
              "      <td>1007.8</td>\n",
              "      <td>NaN</td>\n",
              "      <td>NaN</td>\n",
              "      <td>17.2</td>\n",
              "      <td>24.3</td>\n",
              "      <td>No</td>\n",
              "      <td>No</td>\n",
              "    </tr>\n",
              "    <tr>\n",
              "      <th>2</th>\n",
              "      <td>2008-12-03</td>\n",
              "      <td>Albury</td>\n",
              "      <td>12.9</td>\n",
              "      <td>25.7</td>\n",
              "      <td>0.0</td>\n",
              "      <td>NaN</td>\n",
              "      <td>NaN</td>\n",
              "      <td>WSW</td>\n",
              "      <td>46.0</td>\n",
              "      <td>W</td>\n",
              "      <td>...</td>\n",
              "      <td>38.0</td>\n",
              "      <td>30.0</td>\n",
              "      <td>1007.6</td>\n",
              "      <td>1008.7</td>\n",
              "      <td>NaN</td>\n",
              "      <td>2.0</td>\n",
              "      <td>21.0</td>\n",
              "      <td>23.2</td>\n",
              "      <td>No</td>\n",
              "      <td>No</td>\n",
              "    </tr>\n",
              "    <tr>\n",
              "      <th>3</th>\n",
              "      <td>2008-12-04</td>\n",
              "      <td>Albury</td>\n",
              "      <td>9.2</td>\n",
              "      <td>28.0</td>\n",
              "      <td>0.0</td>\n",
              "      <td>NaN</td>\n",
              "      <td>NaN</td>\n",
              "      <td>NE</td>\n",
              "      <td>24.0</td>\n",
              "      <td>SE</td>\n",
              "      <td>...</td>\n",
              "      <td>45.0</td>\n",
              "      <td>16.0</td>\n",
              "      <td>1017.6</td>\n",
              "      <td>1012.8</td>\n",
              "      <td>NaN</td>\n",
              "      <td>NaN</td>\n",
              "      <td>18.1</td>\n",
              "      <td>26.5</td>\n",
              "      <td>No</td>\n",
              "      <td>No</td>\n",
              "    </tr>\n",
              "    <tr>\n",
              "      <th>4</th>\n",
              "      <td>2008-12-05</td>\n",
              "      <td>Albury</td>\n",
              "      <td>17.5</td>\n",
              "      <td>32.3</td>\n",
              "      <td>1.0</td>\n",
              "      <td>NaN</td>\n",
              "      <td>NaN</td>\n",
              "      <td>W</td>\n",
              "      <td>41.0</td>\n",
              "      <td>ENE</td>\n",
              "      <td>...</td>\n",
              "      <td>82.0</td>\n",
              "      <td>33.0</td>\n",
              "      <td>1010.8</td>\n",
              "      <td>1006.0</td>\n",
              "      <td>7.0</td>\n",
              "      <td>8.0</td>\n",
              "      <td>17.8</td>\n",
              "      <td>29.7</td>\n",
              "      <td>No</td>\n",
              "      <td>No</td>\n",
              "    </tr>\n",
              "  </tbody>\n",
              "</table>\n",
              "<p>5 rows × 23 columns</p>\n",
              "</div>"
            ],
            "text/plain": [
              "         Date Location  MinTemp  MaxTemp  Rainfall  Evaporation  Sunshine  \\\n",
              "0  2008-12-01   Albury     13.4     22.9       0.6          NaN       NaN   \n",
              "1  2008-12-02   Albury      7.4     25.1       0.0          NaN       NaN   \n",
              "2  2008-12-03   Albury     12.9     25.7       0.0          NaN       NaN   \n",
              "3  2008-12-04   Albury      9.2     28.0       0.0          NaN       NaN   \n",
              "4  2008-12-05   Albury     17.5     32.3       1.0          NaN       NaN   \n",
              "\n",
              "  WindGustDir  WindGustSpeed WindDir9am  ... Humidity9am  Humidity3pm  \\\n",
              "0           W           44.0          W  ...        71.0         22.0   \n",
              "1         WNW           44.0        NNW  ...        44.0         25.0   \n",
              "2         WSW           46.0          W  ...        38.0         30.0   \n",
              "3          NE           24.0         SE  ...        45.0         16.0   \n",
              "4           W           41.0        ENE  ...        82.0         33.0   \n",
              "\n",
              "   Pressure9am  Pressure3pm  Cloud9am  Cloud3pm  Temp9am  Temp3pm  RainToday  \\\n",
              "0       1007.7       1007.1       8.0       NaN     16.9     21.8         No   \n",
              "1       1010.6       1007.8       NaN       NaN     17.2     24.3         No   \n",
              "2       1007.6       1008.7       NaN       2.0     21.0     23.2         No   \n",
              "3       1017.6       1012.8       NaN       NaN     18.1     26.5         No   \n",
              "4       1010.8       1006.0       7.0       8.0     17.8     29.7         No   \n",
              "\n",
              "   RainTomorrow  \n",
              "0            No  \n",
              "1            No  \n",
              "2            No  \n",
              "3            No  \n",
              "4            No  \n",
              "\n",
              "[5 rows x 23 columns]"
            ]
          },
          "execution_count": 159,
          "metadata": {},
          "output_type": "execute_result"
        }
      ],
      "source": [
        "df = pd.read_csv('weatherAUS.csv')\n",
        "df.head()"
      ]
    },
    {
      "cell_type": "markdown",
      "metadata": {
        "id": "J2EjwyUxmm0H"
      },
      "source": [
        "**Explotarory Data Analysis**"
      ]
    },
    {
      "cell_type": "code",
      "execution_count": 160,
      "metadata": {
        "colab": {
          "base_uri": "https://localhost:8080/"
        },
        "id": "LxI0gY13mohU",
        "outputId": "42f2592a-5a82-4579-eaf0-af9dc34f7c53"
      },
      "outputs": [
        {
          "name": "stdout",
          "output_type": "stream",
          "text": [
            "<class 'pandas.core.frame.DataFrame'>\n",
            "RangeIndex: 145460 entries, 0 to 145459\n",
            "Data columns (total 23 columns):\n",
            " #   Column         Non-Null Count   Dtype  \n",
            "---  ------         --------------   -----  \n",
            " 0   Date           145460 non-null  object \n",
            " 1   Location       145460 non-null  object \n",
            " 2   MinTemp        143975 non-null  float64\n",
            " 3   MaxTemp        144199 non-null  float64\n",
            " 4   Rainfall       142199 non-null  float64\n",
            " 5   Evaporation    82670 non-null   float64\n",
            " 6   Sunshine       75625 non-null   float64\n",
            " 7   WindGustDir    135134 non-null  object \n",
            " 8   WindGustSpeed  135197 non-null  float64\n",
            " 9   WindDir9am     134894 non-null  object \n",
            " 10  WindDir3pm     141232 non-null  object \n",
            " 11  WindSpeed9am   143693 non-null  float64\n",
            " 12  WindSpeed3pm   142398 non-null  float64\n",
            " 13  Humidity9am    142806 non-null  float64\n",
            " 14  Humidity3pm    140953 non-null  float64\n",
            " 15  Pressure9am    130395 non-null  float64\n",
            " 16  Pressure3pm    130432 non-null  float64\n",
            " 17  Cloud9am       89572 non-null   float64\n",
            " 18  Cloud3pm       86102 non-null   float64\n",
            " 19  Temp9am        143693 non-null  float64\n",
            " 20  Temp3pm        141851 non-null  float64\n",
            " 21  RainToday      142199 non-null  object \n",
            " 22  RainTomorrow   142193 non-null  object \n",
            "dtypes: float64(16), object(7)\n",
            "memory usage: 25.5+ MB\n"
          ]
        }
      ],
      "source": [
        "df.info()"
      ]
    },
    {
      "cell_type": "markdown",
      "metadata": {
        "id": "ShBT6TSV5GQS"
      },
      "source": [
        "**Types of variables**\n",
        "\n",
        "Important to check out types of variable in the dataset, segregate the dataset into categorical and numerical variables. There are a mixture of categorical and numerical variables in the dataset. Categorical variables have data type object. Numerical variables have data type float64."
      ]
    },
    {
      "cell_type": "code",
      "execution_count": 161,
      "metadata": {
        "id": "BqqozcHm3p6F"
      },
      "outputs": [],
      "source": [
        "cat_features = df.select_dtypes(include='object').columns\n",
        "num_features = df.select_dtypes(exclude='object').columns"
      ]
    },
    {
      "cell_type": "code",
      "execution_count": 162,
      "metadata": {
        "colab": {
          "base_uri": "https://localhost:8080/"
        },
        "id": "_f9wYqIU4vb3",
        "outputId": "e451419b-b352-4f36-d7ca-38a6a63f8de4"
      },
      "outputs": [
        {
          "data": {
            "text/plain": [
              "Index(['Date', 'Location', 'WindGustDir', 'WindDir9am', 'WindDir3pm',\n",
              "       'RainToday', 'RainTomorrow'],\n",
              "      dtype='object')"
            ]
          },
          "execution_count": 162,
          "metadata": {},
          "output_type": "execute_result"
        }
      ],
      "source": [
        "cat_features"
      ]
    },
    {
      "cell_type": "code",
      "execution_count": 163,
      "metadata": {
        "colab": {
          "base_uri": "https://localhost:8080/"
        },
        "id": "maPyXd444zPA",
        "outputId": "116f85a2-b227-42e6-850b-9aad3091ce5c"
      },
      "outputs": [
        {
          "data": {
            "text/plain": [
              "Index(['MinTemp', 'MaxTemp', 'Rainfall', 'Evaporation', 'Sunshine',\n",
              "       'WindGustSpeed', 'WindSpeed9am', 'WindSpeed3pm', 'Humidity9am',\n",
              "       'Humidity3pm', 'Pressure9am', 'Pressure3pm', 'Cloud9am', 'Cloud3pm',\n",
              "       'Temp9am', 'Temp3pm'],\n",
              "      dtype='object')"
            ]
          },
          "execution_count": 163,
          "metadata": {},
          "output_type": "execute_result"
        }
      ],
      "source": [
        "num_features"
      ]
    },
    {
      "cell_type": "code",
      "execution_count": 164,
      "metadata": {
        "colab": {
          "base_uri": "https://localhost:8080/",
          "height": 206
        },
        "id": "9ukTTKQv8W29",
        "outputId": "c4565a77-9813-46f3-ce38-d0cb5e18aeef"
      },
      "outputs": [
        {
          "data": {
            "text/html": [
              "<div>\n",
              "<style scoped>\n",
              "    .dataframe tbody tr th:only-of-type {\n",
              "        vertical-align: middle;\n",
              "    }\n",
              "\n",
              "    .dataframe tbody tr th {\n",
              "        vertical-align: top;\n",
              "    }\n",
              "\n",
              "    .dataframe thead th {\n",
              "        text-align: right;\n",
              "    }\n",
              "</style>\n",
              "<table border=\"1\" class=\"dataframe\">\n",
              "  <thead>\n",
              "    <tr style=\"text-align: right;\">\n",
              "      <th></th>\n",
              "      <th>Date</th>\n",
              "      <th>Location</th>\n",
              "      <th>WindGustDir</th>\n",
              "      <th>WindDir9am</th>\n",
              "      <th>WindDir3pm</th>\n",
              "      <th>RainToday</th>\n",
              "      <th>RainTomorrow</th>\n",
              "    </tr>\n",
              "  </thead>\n",
              "  <tbody>\n",
              "    <tr>\n",
              "      <th>0</th>\n",
              "      <td>2008-12-01</td>\n",
              "      <td>Albury</td>\n",
              "      <td>W</td>\n",
              "      <td>W</td>\n",
              "      <td>WNW</td>\n",
              "      <td>No</td>\n",
              "      <td>No</td>\n",
              "    </tr>\n",
              "    <tr>\n",
              "      <th>1</th>\n",
              "      <td>2008-12-02</td>\n",
              "      <td>Albury</td>\n",
              "      <td>WNW</td>\n",
              "      <td>NNW</td>\n",
              "      <td>WSW</td>\n",
              "      <td>No</td>\n",
              "      <td>No</td>\n",
              "    </tr>\n",
              "    <tr>\n",
              "      <th>2</th>\n",
              "      <td>2008-12-03</td>\n",
              "      <td>Albury</td>\n",
              "      <td>WSW</td>\n",
              "      <td>W</td>\n",
              "      <td>WSW</td>\n",
              "      <td>No</td>\n",
              "      <td>No</td>\n",
              "    </tr>\n",
              "    <tr>\n",
              "      <th>3</th>\n",
              "      <td>2008-12-04</td>\n",
              "      <td>Albury</td>\n",
              "      <td>NE</td>\n",
              "      <td>SE</td>\n",
              "      <td>E</td>\n",
              "      <td>No</td>\n",
              "      <td>No</td>\n",
              "    </tr>\n",
              "    <tr>\n",
              "      <th>4</th>\n",
              "      <td>2008-12-05</td>\n",
              "      <td>Albury</td>\n",
              "      <td>W</td>\n",
              "      <td>ENE</td>\n",
              "      <td>NW</td>\n",
              "      <td>No</td>\n",
              "      <td>No</td>\n",
              "    </tr>\n",
              "  </tbody>\n",
              "</table>\n",
              "</div>"
            ],
            "text/plain": [
              "         Date Location WindGustDir WindDir9am WindDir3pm RainToday  \\\n",
              "0  2008-12-01   Albury           W          W        WNW        No   \n",
              "1  2008-12-02   Albury         WNW        NNW        WSW        No   \n",
              "2  2008-12-03   Albury         WSW          W        WSW        No   \n",
              "3  2008-12-04   Albury          NE         SE          E        No   \n",
              "4  2008-12-05   Albury           W        ENE         NW        No   \n",
              "\n",
              "  RainTomorrow  \n",
              "0           No  \n",
              "1           No  \n",
              "2           No  \n",
              "3           No  \n",
              "4           No  "
            ]
          },
          "execution_count": 164,
          "metadata": {},
          "output_type": "execute_result"
        }
      ],
      "source": [
        "df[cat_features].head()"
      ]
    },
    {
      "cell_type": "code",
      "execution_count": 88,
      "metadata": {
        "colab": {
          "base_uri": "https://localhost:8080/",
          "height": 226
        },
        "id": "5Sux2dfg91OS",
        "outputId": "3d6d427e-adc6-4f98-8f74-f0ef04d278c7"
      },
      "outputs": [
        {
          "data": {
            "text/html": [
              "<div>\n",
              "<style scoped>\n",
              "    .dataframe tbody tr th:only-of-type {\n",
              "        vertical-align: middle;\n",
              "    }\n",
              "\n",
              "    .dataframe tbody tr th {\n",
              "        vertical-align: top;\n",
              "    }\n",
              "\n",
              "    .dataframe thead th {\n",
              "        text-align: right;\n",
              "    }\n",
              "</style>\n",
              "<table border=\"1\" class=\"dataframe\">\n",
              "  <thead>\n",
              "    <tr style=\"text-align: right;\">\n",
              "      <th></th>\n",
              "      <th>MinTemp</th>\n",
              "      <th>MaxTemp</th>\n",
              "      <th>Rainfall</th>\n",
              "      <th>Evaporation</th>\n",
              "      <th>Sunshine</th>\n",
              "      <th>WindGustSpeed</th>\n",
              "      <th>WindSpeed9am</th>\n",
              "      <th>WindSpeed3pm</th>\n",
              "      <th>Humidity9am</th>\n",
              "      <th>Humidity3pm</th>\n",
              "      <th>Pressure9am</th>\n",
              "      <th>Pressure3pm</th>\n",
              "      <th>Cloud9am</th>\n",
              "      <th>Cloud3pm</th>\n",
              "      <th>Temp9am</th>\n",
              "      <th>Temp3pm</th>\n",
              "    </tr>\n",
              "  </thead>\n",
              "  <tbody>\n",
              "    <tr>\n",
              "      <th>0</th>\n",
              "      <td>13.4</td>\n",
              "      <td>22.9</td>\n",
              "      <td>0.6</td>\n",
              "      <td>NaN</td>\n",
              "      <td>NaN</td>\n",
              "      <td>44.0</td>\n",
              "      <td>20.0</td>\n",
              "      <td>24.0</td>\n",
              "      <td>71.0</td>\n",
              "      <td>22.0</td>\n",
              "      <td>1007.7</td>\n",
              "      <td>1007.1</td>\n",
              "      <td>8.0</td>\n",
              "      <td>NaN</td>\n",
              "      <td>16.9</td>\n",
              "      <td>21.8</td>\n",
              "    </tr>\n",
              "    <tr>\n",
              "      <th>1</th>\n",
              "      <td>7.4</td>\n",
              "      <td>25.1</td>\n",
              "      <td>0.0</td>\n",
              "      <td>NaN</td>\n",
              "      <td>NaN</td>\n",
              "      <td>44.0</td>\n",
              "      <td>4.0</td>\n",
              "      <td>22.0</td>\n",
              "      <td>44.0</td>\n",
              "      <td>25.0</td>\n",
              "      <td>1010.6</td>\n",
              "      <td>1007.8</td>\n",
              "      <td>NaN</td>\n",
              "      <td>NaN</td>\n",
              "      <td>17.2</td>\n",
              "      <td>24.3</td>\n",
              "    </tr>\n",
              "    <tr>\n",
              "      <th>2</th>\n",
              "      <td>12.9</td>\n",
              "      <td>25.7</td>\n",
              "      <td>0.0</td>\n",
              "      <td>NaN</td>\n",
              "      <td>NaN</td>\n",
              "      <td>46.0</td>\n",
              "      <td>19.0</td>\n",
              "      <td>26.0</td>\n",
              "      <td>38.0</td>\n",
              "      <td>30.0</td>\n",
              "      <td>1007.6</td>\n",
              "      <td>1008.7</td>\n",
              "      <td>NaN</td>\n",
              "      <td>2.0</td>\n",
              "      <td>21.0</td>\n",
              "      <td>23.2</td>\n",
              "    </tr>\n",
              "    <tr>\n",
              "      <th>3</th>\n",
              "      <td>9.2</td>\n",
              "      <td>28.0</td>\n",
              "      <td>0.0</td>\n",
              "      <td>NaN</td>\n",
              "      <td>NaN</td>\n",
              "      <td>24.0</td>\n",
              "      <td>11.0</td>\n",
              "      <td>9.0</td>\n",
              "      <td>45.0</td>\n",
              "      <td>16.0</td>\n",
              "      <td>1017.6</td>\n",
              "      <td>1012.8</td>\n",
              "      <td>NaN</td>\n",
              "      <td>NaN</td>\n",
              "      <td>18.1</td>\n",
              "      <td>26.5</td>\n",
              "    </tr>\n",
              "    <tr>\n",
              "      <th>4</th>\n",
              "      <td>17.5</td>\n",
              "      <td>32.3</td>\n",
              "      <td>1.0</td>\n",
              "      <td>NaN</td>\n",
              "      <td>NaN</td>\n",
              "      <td>41.0</td>\n",
              "      <td>7.0</td>\n",
              "      <td>20.0</td>\n",
              "      <td>82.0</td>\n",
              "      <td>33.0</td>\n",
              "      <td>1010.8</td>\n",
              "      <td>1006.0</td>\n",
              "      <td>7.0</td>\n",
              "      <td>8.0</td>\n",
              "      <td>17.8</td>\n",
              "      <td>29.7</td>\n",
              "    </tr>\n",
              "  </tbody>\n",
              "</table>\n",
              "</div>"
            ],
            "text/plain": [
              "   MinTemp  MaxTemp  Rainfall  Evaporation  Sunshine  WindGustSpeed  \\\n",
              "0     13.4     22.9       0.6          NaN       NaN           44.0   \n",
              "1      7.4     25.1       0.0          NaN       NaN           44.0   \n",
              "2     12.9     25.7       0.0          NaN       NaN           46.0   \n",
              "3      9.2     28.0       0.0          NaN       NaN           24.0   \n",
              "4     17.5     32.3       1.0          NaN       NaN           41.0   \n",
              "\n",
              "   WindSpeed9am  WindSpeed3pm  Humidity9am  Humidity3pm  Pressure9am  \\\n",
              "0          20.0          24.0         71.0         22.0       1007.7   \n",
              "1           4.0          22.0         44.0         25.0       1010.6   \n",
              "2          19.0          26.0         38.0         30.0       1007.6   \n",
              "3          11.0           9.0         45.0         16.0       1017.6   \n",
              "4           7.0          20.0         82.0         33.0       1010.8   \n",
              "\n",
              "   Pressure3pm  Cloud9am  Cloud3pm  Temp9am  Temp3pm  \n",
              "0       1007.1       8.0       NaN     16.9     21.8  \n",
              "1       1007.8       NaN       NaN     17.2     24.3  \n",
              "2       1008.7       NaN       2.0     21.0     23.2  \n",
              "3       1012.8       NaN       NaN     18.1     26.5  \n",
              "4       1006.0       7.0       8.0     17.8     29.7  "
            ]
          },
          "execution_count": 88,
          "metadata": {},
          "output_type": "execute_result"
        }
      ],
      "source": [
        "df[num_features].head()"
      ]
    },
    {
      "cell_type": "markdown",
      "metadata": {
        "id": "mssIgfOf-MEp"
      },
      "source": [
        "**NaN Values:**"
      ]
    },
    {
      "cell_type": "code",
      "execution_count": 89,
      "metadata": {
        "colab": {
          "base_uri": "https://localhost:8080/"
        },
        "id": "qYGyk8ky98LQ",
        "outputId": "ec274edb-3f3b-4c4d-8ef2-a200655274b1"
      },
      "outputs": [
        {
          "data": {
            "text/plain": [
              "Date                0\n",
              "Location            0\n",
              "WindGustDir     10326\n",
              "WindDir9am      10566\n",
              "WindDir3pm       4228\n",
              "RainToday        3261\n",
              "RainTomorrow     3267\n",
              "dtype: int64"
            ]
          },
          "execution_count": 89,
          "metadata": {},
          "output_type": "execute_result"
        }
      ],
      "source": [
        "df[cat_features].isnull().sum()"
      ]
    },
    {
      "cell_type": "code",
      "execution_count": 90,
      "metadata": {
        "colab": {
          "base_uri": "https://localhost:8080/"
        },
        "id": "ifCvKvKy-Eda",
        "outputId": "4931c805-52ae-46c6-bbd7-d8bcf99aef24"
      },
      "outputs": [
        {
          "data": {
            "text/plain": [
              "MinTemp           1485\n",
              "MaxTemp           1261\n",
              "Rainfall          3261\n",
              "Evaporation      62790\n",
              "Sunshine         69835\n",
              "WindGustSpeed    10263\n",
              "WindSpeed9am      1767\n",
              "WindSpeed3pm      3062\n",
              "Humidity9am       2654\n",
              "Humidity3pm       4507\n",
              "Pressure9am      15065\n",
              "Pressure3pm      15028\n",
              "Cloud9am         55888\n",
              "Cloud3pm         59358\n",
              "Temp9am           1767\n",
              "Temp3pm           3609\n",
              "dtype: int64"
            ]
          },
          "execution_count": 90,
          "metadata": {},
          "output_type": "execute_result"
        }
      ],
      "source": [
        "df[num_features].isnull().sum()"
      ]
    },
    {
      "cell_type": "markdown",
      "metadata": {
        "id": "EP70zlTdBhv6"
      },
      "source": [
        "In Catagorical feature  WindGustDir, WindDir9am, WindDir3pm, RainToday,RainTomorrow has Null Values."
      ]
    },
    {
      "cell_type": "code",
      "execution_count": 91,
      "metadata": {
        "colab": {
          "base_uri": "https://localhost:8080/"
        },
        "id": "G1Dnlm4rB4dn",
        "outputId": "2b545d81-8652-481e-8296-d7269ff8cf22"
      },
      "outputs": [
        {
          "data": {
            "text/plain": [
              "0         2008-12-01\n",
              "1         2008-12-02\n",
              "2         2008-12-03\n",
              "3         2008-12-04\n",
              "4         2008-12-05\n",
              "             ...    \n",
              "145455    2017-06-21\n",
              "145456    2017-06-22\n",
              "145457    2017-06-23\n",
              "145458    2017-06-24\n",
              "145459    2017-06-25\n",
              "Name: Date, Length: 145460, dtype: object"
            ]
          },
          "execution_count": 91,
          "metadata": {},
          "output_type": "execute_result"
        }
      ],
      "source": [
        "df['Date']"
      ]
    },
    {
      "cell_type": "markdown",
      "metadata": {
        "id": "Fob36rU0CUSo"
      },
      "source": [
        "Feature engineering of Date Columns"
      ]
    },
    {
      "cell_type": "code",
      "execution_count": 92,
      "metadata": {
        "colab": {
          "base_uri": "https://localhost:8080/"
        },
        "id": "44fDzGhaHb4d",
        "outputId": "4048a470-a97b-4f2e-ffe0-a7e9fcecfa09"
      },
      "outputs": [
        {
          "name": "stdout",
          "output_type": "stream",
          "text": [
            "<class 'pandas.core.series.Series'>\n",
            "RangeIndex: 145460 entries, 0 to 145459\n",
            "Series name: Date\n",
            "Non-Null Count   Dtype \n",
            "--------------   ----- \n",
            "145460 non-null  object\n",
            "dtypes: object(1)\n",
            "memory usage: 1.1+ MB\n"
          ]
        }
      ],
      "source": [
        "df['Date'].info()"
      ]
    },
    {
      "cell_type": "code",
      "execution_count": 93,
      "metadata": {
        "id": "liODT6RhHo8U"
      },
      "outputs": [],
      "source": [
        "# covert into datetime format from strings data type\n",
        "\n",
        "df['Date'] = pd.to_datetime(df['Date'])"
      ]
    },
    {
      "cell_type": "code",
      "execution_count": 94,
      "metadata": {
        "id": "fGIwh08xH29P"
      },
      "outputs": [],
      "source": [
        "#Extract year, month, day from date columns\n",
        "\n",
        "df['Year'] = df['Date'].dt.year\n",
        "df['Month'] = df['Date'].dt.month\n",
        "df['Day'] = df['Date'].dt.day"
      ]
    },
    {
      "cell_type": "code",
      "execution_count": 95,
      "metadata": {
        "id": "yg9q7q06IcQE"
      },
      "outputs": [],
      "source": [
        "# now drop Date columns\n",
        "\n",
        "df.drop('Date', axis=1, inplace = True)"
      ]
    },
    {
      "cell_type": "code",
      "execution_count": 96,
      "metadata": {
        "colab": {
          "base_uri": "https://localhost:8080/",
          "height": 255
        },
        "id": "t_ceXKiCIjSh",
        "outputId": "5102730b-0560-479a-e180-192fbef9353e"
      },
      "outputs": [
        {
          "data": {
            "text/html": [
              "<div>\n",
              "<style scoped>\n",
              "    .dataframe tbody tr th:only-of-type {\n",
              "        vertical-align: middle;\n",
              "    }\n",
              "\n",
              "    .dataframe tbody tr th {\n",
              "        vertical-align: top;\n",
              "    }\n",
              "\n",
              "    .dataframe thead th {\n",
              "        text-align: right;\n",
              "    }\n",
              "</style>\n",
              "<table border=\"1\" class=\"dataframe\">\n",
              "  <thead>\n",
              "    <tr style=\"text-align: right;\">\n",
              "      <th></th>\n",
              "      <th>Location</th>\n",
              "      <th>MinTemp</th>\n",
              "      <th>MaxTemp</th>\n",
              "      <th>Rainfall</th>\n",
              "      <th>Evaporation</th>\n",
              "      <th>Sunshine</th>\n",
              "      <th>WindGustDir</th>\n",
              "      <th>WindGustSpeed</th>\n",
              "      <th>WindDir9am</th>\n",
              "      <th>WindDir3pm</th>\n",
              "      <th>...</th>\n",
              "      <th>Pressure3pm</th>\n",
              "      <th>Cloud9am</th>\n",
              "      <th>Cloud3pm</th>\n",
              "      <th>Temp9am</th>\n",
              "      <th>Temp3pm</th>\n",
              "      <th>RainToday</th>\n",
              "      <th>RainTomorrow</th>\n",
              "      <th>Year</th>\n",
              "      <th>Month</th>\n",
              "      <th>Day</th>\n",
              "    </tr>\n",
              "  </thead>\n",
              "  <tbody>\n",
              "    <tr>\n",
              "      <th>0</th>\n",
              "      <td>Albury</td>\n",
              "      <td>13.4</td>\n",
              "      <td>22.9</td>\n",
              "      <td>0.6</td>\n",
              "      <td>NaN</td>\n",
              "      <td>NaN</td>\n",
              "      <td>W</td>\n",
              "      <td>44.0</td>\n",
              "      <td>W</td>\n",
              "      <td>WNW</td>\n",
              "      <td>...</td>\n",
              "      <td>1007.1</td>\n",
              "      <td>8.0</td>\n",
              "      <td>NaN</td>\n",
              "      <td>16.9</td>\n",
              "      <td>21.8</td>\n",
              "      <td>No</td>\n",
              "      <td>No</td>\n",
              "      <td>2008</td>\n",
              "      <td>12</td>\n",
              "      <td>1</td>\n",
              "    </tr>\n",
              "    <tr>\n",
              "      <th>1</th>\n",
              "      <td>Albury</td>\n",
              "      <td>7.4</td>\n",
              "      <td>25.1</td>\n",
              "      <td>0.0</td>\n",
              "      <td>NaN</td>\n",
              "      <td>NaN</td>\n",
              "      <td>WNW</td>\n",
              "      <td>44.0</td>\n",
              "      <td>NNW</td>\n",
              "      <td>WSW</td>\n",
              "      <td>...</td>\n",
              "      <td>1007.8</td>\n",
              "      <td>NaN</td>\n",
              "      <td>NaN</td>\n",
              "      <td>17.2</td>\n",
              "      <td>24.3</td>\n",
              "      <td>No</td>\n",
              "      <td>No</td>\n",
              "      <td>2008</td>\n",
              "      <td>12</td>\n",
              "      <td>2</td>\n",
              "    </tr>\n",
              "    <tr>\n",
              "      <th>2</th>\n",
              "      <td>Albury</td>\n",
              "      <td>12.9</td>\n",
              "      <td>25.7</td>\n",
              "      <td>0.0</td>\n",
              "      <td>NaN</td>\n",
              "      <td>NaN</td>\n",
              "      <td>WSW</td>\n",
              "      <td>46.0</td>\n",
              "      <td>W</td>\n",
              "      <td>WSW</td>\n",
              "      <td>...</td>\n",
              "      <td>1008.7</td>\n",
              "      <td>NaN</td>\n",
              "      <td>2.0</td>\n",
              "      <td>21.0</td>\n",
              "      <td>23.2</td>\n",
              "      <td>No</td>\n",
              "      <td>No</td>\n",
              "      <td>2008</td>\n",
              "      <td>12</td>\n",
              "      <td>3</td>\n",
              "    </tr>\n",
              "    <tr>\n",
              "      <th>3</th>\n",
              "      <td>Albury</td>\n",
              "      <td>9.2</td>\n",
              "      <td>28.0</td>\n",
              "      <td>0.0</td>\n",
              "      <td>NaN</td>\n",
              "      <td>NaN</td>\n",
              "      <td>NE</td>\n",
              "      <td>24.0</td>\n",
              "      <td>SE</td>\n",
              "      <td>E</td>\n",
              "      <td>...</td>\n",
              "      <td>1012.8</td>\n",
              "      <td>NaN</td>\n",
              "      <td>NaN</td>\n",
              "      <td>18.1</td>\n",
              "      <td>26.5</td>\n",
              "      <td>No</td>\n",
              "      <td>No</td>\n",
              "      <td>2008</td>\n",
              "      <td>12</td>\n",
              "      <td>4</td>\n",
              "    </tr>\n",
              "    <tr>\n",
              "      <th>4</th>\n",
              "      <td>Albury</td>\n",
              "      <td>17.5</td>\n",
              "      <td>32.3</td>\n",
              "      <td>1.0</td>\n",
              "      <td>NaN</td>\n",
              "      <td>NaN</td>\n",
              "      <td>W</td>\n",
              "      <td>41.0</td>\n",
              "      <td>ENE</td>\n",
              "      <td>NW</td>\n",
              "      <td>...</td>\n",
              "      <td>1006.0</td>\n",
              "      <td>7.0</td>\n",
              "      <td>8.0</td>\n",
              "      <td>17.8</td>\n",
              "      <td>29.7</td>\n",
              "      <td>No</td>\n",
              "      <td>No</td>\n",
              "      <td>2008</td>\n",
              "      <td>12</td>\n",
              "      <td>5</td>\n",
              "    </tr>\n",
              "  </tbody>\n",
              "</table>\n",
              "<p>5 rows × 25 columns</p>\n",
              "</div>"
            ],
            "text/plain": [
              "  Location  MinTemp  MaxTemp  Rainfall  Evaporation  Sunshine WindGustDir  \\\n",
              "0   Albury     13.4     22.9       0.6          NaN       NaN           W   \n",
              "1   Albury      7.4     25.1       0.0          NaN       NaN         WNW   \n",
              "2   Albury     12.9     25.7       0.0          NaN       NaN         WSW   \n",
              "3   Albury      9.2     28.0       0.0          NaN       NaN          NE   \n",
              "4   Albury     17.5     32.3       1.0          NaN       NaN           W   \n",
              "\n",
              "   WindGustSpeed WindDir9am WindDir3pm  ...  Pressure3pm  Cloud9am  Cloud3pm  \\\n",
              "0           44.0          W        WNW  ...       1007.1       8.0       NaN   \n",
              "1           44.0        NNW        WSW  ...       1007.8       NaN       NaN   \n",
              "2           46.0          W        WSW  ...       1008.7       NaN       2.0   \n",
              "3           24.0         SE          E  ...       1012.8       NaN       NaN   \n",
              "4           41.0        ENE         NW  ...       1006.0       7.0       8.0   \n",
              "\n",
              "   Temp9am  Temp3pm  RainToday  RainTomorrow  Year  Month  Day  \n",
              "0     16.9     21.8         No            No  2008     12    1  \n",
              "1     17.2     24.3         No            No  2008     12    2  \n",
              "2     21.0     23.2         No            No  2008     12    3  \n",
              "3     18.1     26.5         No            No  2008     12    4  \n",
              "4     17.8     29.7         No            No  2008     12    5  \n",
              "\n",
              "[5 rows x 25 columns]"
            ]
          },
          "execution_count": 96,
          "metadata": {},
          "output_type": "execute_result"
        }
      ],
      "source": [
        "df.head()"
      ]
    },
    {
      "cell_type": "code",
      "execution_count": 97,
      "metadata": {
        "colab": {
          "base_uri": "https://localhost:8080/"
        },
        "id": "98yiRTffCzM-",
        "outputId": "3cfcb5a3-018a-4319-855a-660cadd692e2"
      },
      "outputs": [
        {
          "data": {
            "text/plain": [
              "array(['Albury', 'BadgerysCreek', 'Cobar', 'CoffsHarbour', 'Moree',\n",
              "       'Newcastle', 'NorahHead', 'NorfolkIsland', 'Penrith', 'Richmond',\n",
              "       'Sydney', 'SydneyAirport', 'WaggaWagga', 'Williamtown',\n",
              "       'Wollongong', 'Canberra', 'Tuggeranong', 'MountGinini', 'Ballarat',\n",
              "       'Bendigo', 'Sale', 'MelbourneAirport', 'Melbourne', 'Mildura',\n",
              "       'Nhil', 'Portland', 'Watsonia', 'Dartmoor', 'Brisbane', 'Cairns',\n",
              "       'GoldCoast', 'Townsville', 'Adelaide', 'MountGambier', 'Nuriootpa',\n",
              "       'Woomera', 'Albany', 'Witchcliffe', 'PearceRAAF', 'PerthAirport',\n",
              "       'Perth', 'SalmonGums', 'Walpole', 'Hobart', 'Launceston',\n",
              "       'AliceSprings', 'Darwin', 'Katherine', 'Uluru'], dtype=object)"
            ]
          },
          "execution_count": 97,
          "metadata": {},
          "output_type": "execute_result"
        }
      ],
      "source": [
        "# unique() function helps to check Cardinality\n",
        "df['Location'].unique()"
      ]
    },
    {
      "cell_type": "code",
      "execution_count": 98,
      "metadata": {
        "colab": {
          "base_uri": "https://localhost:8080/"
        },
        "id": "4NaOC_W5C8tE",
        "outputId": "b8b7e776-7430-430a-a029-e23b45849f83"
      },
      "outputs": [
        {
          "data": {
            "text/plain": [
              "Location\n",
              "Canberra            3436\n",
              "Sydney              3344\n",
              "Darwin              3193\n",
              "Melbourne           3193\n",
              "Brisbane            3193\n",
              "Adelaide            3193\n",
              "Perth               3193\n",
              "Hobart              3193\n",
              "Albany              3040\n",
              "MountGambier        3040\n",
              "Ballarat            3040\n",
              "Townsville          3040\n",
              "GoldCoast           3040\n",
              "Cairns              3040\n",
              "Launceston          3040\n",
              "AliceSprings        3040\n",
              "Bendigo             3040\n",
              "Albury              3040\n",
              "MountGinini         3040\n",
              "Wollongong          3040\n",
              "Newcastle           3039\n",
              "Tuggeranong         3039\n",
              "Penrith             3039\n",
              "Woomera             3009\n",
              "Nuriootpa           3009\n",
              "Cobar               3009\n",
              "CoffsHarbour        3009\n",
              "Moree               3009\n",
              "Sale                3009\n",
              "PerthAirport        3009\n",
              "PearceRAAF          3009\n",
              "Witchcliffe         3009\n",
              "BadgerysCreek       3009\n",
              "Mildura             3009\n",
              "NorfolkIsland       3009\n",
              "MelbourneAirport    3009\n",
              "Richmond            3009\n",
              "SydneyAirport       3009\n",
              "WaggaWagga          3009\n",
              "Williamtown         3009\n",
              "Dartmoor            3009\n",
              "Watsonia            3009\n",
              "Portland            3009\n",
              "Walpole             3006\n",
              "NorahHead           3004\n",
              "SalmonGums          3001\n",
              "Katherine           1578\n",
              "Nhil                1578\n",
              "Uluru               1578\n",
              "Name: count, dtype: int64"
            ]
          },
          "execution_count": 98,
          "metadata": {},
          "output_type": "execute_result"
        }
      ],
      "source": [
        "df['Location'].value_counts()"
      ]
    },
    {
      "cell_type": "code",
      "execution_count": 99,
      "metadata": {
        "colab": {
          "base_uri": "https://localhost:8080/"
        },
        "id": "ZhCDzWp76pE6",
        "outputId": "9db21811-37c7-47c4-cbe5-3ec1063ee38b"
      },
      "outputs": [
        {
          "data": {
            "text/plain": [
              "array(['W', 'WNW', 'WSW', 'NE', 'NNW', 'N', 'NNE', 'SW', nan, 'ENE',\n",
              "       'SSE', 'S', 'NW', 'SE', 'ESE', 'E', 'SSW'], dtype=object)"
            ]
          },
          "execution_count": 99,
          "metadata": {},
          "output_type": "execute_result"
        }
      ],
      "source": [
        "df['WindGustDir'].unique()"
      ]
    },
    {
      "cell_type": "code",
      "execution_count": 100,
      "metadata": {
        "colab": {
          "base_uri": "https://localhost:8080/"
        },
        "id": "0RFG0l_Z641l",
        "outputId": "c4ebfd3a-498f-488a-8cb3-ca24202b5d16"
      },
      "outputs": [
        {
          "data": {
            "text/plain": [
              "WindGustDir\n",
              "W      9915\n",
              "SE     9418\n",
              "N      9313\n",
              "SSE    9216\n",
              "E      9181\n",
              "S      9168\n",
              "WSW    9069\n",
              "SW     8967\n",
              "SSW    8736\n",
              "WNW    8252\n",
              "NW     8122\n",
              "ENE    8104\n",
              "ESE    7372\n",
              "NE     7133\n",
              "NNW    6620\n",
              "NNE    6548\n",
              "Name: count, dtype: int64"
            ]
          },
          "execution_count": 100,
          "metadata": {},
          "output_type": "execute_result"
        }
      ],
      "source": [
        "df['WindGustDir'].value_counts()"
      ]
    },
    {
      "cell_type": "code",
      "execution_count": 101,
      "metadata": {
        "colab": {
          "base_uri": "https://localhost:8080/"
        },
        "id": "PS2F4cSy7WfC",
        "outputId": "758a6b5f-8fbf-46ef-9569-f2d229e3e217"
      },
      "outputs": [
        {
          "data": {
            "text/plain": [
              "array(['W', 'NNW', 'SE', 'ENE', 'SW', 'SSE', 'S', 'NE', nan, 'SSW', 'N',\n",
              "       'WSW', 'ESE', 'E', 'NW', 'WNW', 'NNE'], dtype=object)"
            ]
          },
          "execution_count": 101,
          "metadata": {},
          "output_type": "execute_result"
        }
      ],
      "source": [
        "df['WindDir9am'].unique()\n"
      ]
    },
    {
      "cell_type": "code",
      "execution_count": 102,
      "metadata": {
        "colab": {
          "base_uri": "https://localhost:8080/"
        },
        "id": "_FdqC8ci7wqs",
        "outputId": "1700a082-cc4b-44ff-9c33-030211ba5beb"
      },
      "outputs": [
        {
          "data": {
            "text/plain": [
              "WindDir9am\n",
              "N      11758\n",
              "SE      9287\n",
              "E       9176\n",
              "SSE     9112\n",
              "NW      8749\n",
              "S       8659\n",
              "W       8459\n",
              "SW      8423\n",
              "NNE     8129\n",
              "NNW     7980\n",
              "ENE     7836\n",
              "NE      7671\n",
              "ESE     7630\n",
              "SSW     7587\n",
              "WNW     7414\n",
              "WSW     7024\n",
              "Name: count, dtype: int64"
            ]
          },
          "execution_count": 102,
          "metadata": {},
          "output_type": "execute_result"
        }
      ],
      "source": [
        "df['WindDir9am'].value_counts()"
      ]
    },
    {
      "cell_type": "code",
      "execution_count": 103,
      "metadata": {
        "colab": {
          "base_uri": "https://localhost:8080/"
        },
        "id": "iJPRiLwr7bSy",
        "outputId": "8bfef009-eeea-4e53-a017-30c912cf6ac3"
      },
      "outputs": [
        {
          "data": {
            "text/plain": [
              "array(['WNW', 'WSW', 'E', 'NW', 'W', 'SSE', 'ESE', 'ENE', 'NNW', 'SSW',\n",
              "       'SW', 'SE', 'N', 'S', 'NNE', nan, 'NE'], dtype=object)"
            ]
          },
          "execution_count": 103,
          "metadata": {},
          "output_type": "execute_result"
        }
      ],
      "source": [
        "df['WindDir3pm'].unique()\n"
      ]
    },
    {
      "cell_type": "code",
      "execution_count": 104,
      "metadata": {
        "colab": {
          "base_uri": "https://localhost:8080/"
        },
        "id": "VxjajEgw76Jk",
        "outputId": "430c9562-da66-40e4-e9c2-c566cba3bc4c"
      },
      "outputs": [
        {
          "data": {
            "text/plain": [
              "WindDir3pm\n",
              "SE     10838\n",
              "W      10110\n",
              "S       9926\n",
              "WSW     9518\n",
              "SSE     9399\n",
              "SW      9354\n",
              "N       8890\n",
              "WNW     8874\n",
              "NW      8610\n",
              "ESE     8505\n",
              "E       8472\n",
              "NE      8263\n",
              "SSW     8156\n",
              "NNW     7870\n",
              "ENE     7857\n",
              "NNE     6590\n",
              "Name: count, dtype: int64"
            ]
          },
          "execution_count": 104,
          "metadata": {},
          "output_type": "execute_result"
        }
      ],
      "source": [
        "df['WindDir3pm'].value_counts()"
      ]
    },
    {
      "cell_type": "code",
      "execution_count": 105,
      "metadata": {
        "colab": {
          "base_uri": "https://localhost:8080/"
        },
        "id": "HmF4oydn7dOt",
        "outputId": "c925b1a1-56bb-4307-8e54-86ad028a1204"
      },
      "outputs": [
        {
          "data": {
            "text/plain": [
              "array(['No', 'Yes', nan], dtype=object)"
            ]
          },
          "execution_count": 105,
          "metadata": {},
          "output_type": "execute_result"
        }
      ],
      "source": [
        "df['RainToday'].unique()\n"
      ]
    },
    {
      "cell_type": "code",
      "execution_count": 106,
      "metadata": {
        "colab": {
          "base_uri": "https://localhost:8080/"
        },
        "id": "wbHdzAii8AUE",
        "outputId": "18cc6db0-14d3-45e8-ceba-407074576a93"
      },
      "outputs": [
        {
          "data": {
            "text/plain": [
              "RainToday\n",
              "No     110319\n",
              "Yes     31880\n",
              "Name: count, dtype: int64"
            ]
          },
          "execution_count": 106,
          "metadata": {},
          "output_type": "execute_result"
        }
      ],
      "source": [
        "df['RainToday'].value_counts()"
      ]
    },
    {
      "cell_type": "code",
      "execution_count": 107,
      "metadata": {
        "colab": {
          "base_uri": "https://localhost:8080/"
        },
        "id": "dkXT09Wk7fP1",
        "outputId": "f71c2fc5-e3a2-4d0c-b264-de0ed3ac2fb4"
      },
      "outputs": [
        {
          "data": {
            "text/plain": [
              "array(['No', 'Yes', nan], dtype=object)"
            ]
          },
          "execution_count": 107,
          "metadata": {},
          "output_type": "execute_result"
        }
      ],
      "source": [
        "df['RainTomorrow'].unique()"
      ]
    },
    {
      "cell_type": "code",
      "execution_count": 108,
      "metadata": {
        "colab": {
          "base_uri": "https://localhost:8080/"
        },
        "id": "8ywhe_n88HHZ",
        "outputId": "4062b078-c23d-4e50-eb89-bb3fd016d906"
      },
      "outputs": [
        {
          "data": {
            "text/plain": [
              "RainTomorrow\n",
              "No     110316\n",
              "Yes     31877\n",
              "Name: count, dtype: int64"
            ]
          },
          "execution_count": 108,
          "metadata": {},
          "output_type": "execute_result"
        }
      ],
      "source": [
        "df['RainTomorrow'].value_counts()"
      ]
    },
    {
      "cell_type": "markdown",
      "metadata": {
        "id": "_mlbMOGG8Wgq"
      },
      "source": [
        "**Statistics of Numerical Features**"
      ]
    },
    {
      "cell_type": "code",
      "execution_count": 109,
      "metadata": {
        "colab": {
          "base_uri": "https://localhost:8080/",
          "height": 551
        },
        "id": "yrCWjEkp8jpj",
        "outputId": "c6c6aa26-3350-43e8-f1e0-011de87f46e3"
      },
      "outputs": [
        {
          "data": {
            "text/html": [
              "<div>\n",
              "<style scoped>\n",
              "    .dataframe tbody tr th:only-of-type {\n",
              "        vertical-align: middle;\n",
              "    }\n",
              "\n",
              "    .dataframe tbody tr th {\n",
              "        vertical-align: top;\n",
              "    }\n",
              "\n",
              "    .dataframe thead th {\n",
              "        text-align: right;\n",
              "    }\n",
              "</style>\n",
              "<table border=\"1\" class=\"dataframe\">\n",
              "  <thead>\n",
              "    <tr style=\"text-align: right;\">\n",
              "      <th></th>\n",
              "      <th>count</th>\n",
              "      <th>mean</th>\n",
              "      <th>std</th>\n",
              "      <th>min</th>\n",
              "      <th>25%</th>\n",
              "      <th>50%</th>\n",
              "      <th>75%</th>\n",
              "      <th>max</th>\n",
              "    </tr>\n",
              "  </thead>\n",
              "  <tbody>\n",
              "    <tr>\n",
              "      <th>MinTemp</th>\n",
              "      <td>143975.0</td>\n",
              "      <td>12.194034</td>\n",
              "      <td>6.398495</td>\n",
              "      <td>-8.5</td>\n",
              "      <td>7.6</td>\n",
              "      <td>12.0</td>\n",
              "      <td>16.9</td>\n",
              "      <td>33.9</td>\n",
              "    </tr>\n",
              "    <tr>\n",
              "      <th>MaxTemp</th>\n",
              "      <td>144199.0</td>\n",
              "      <td>23.221348</td>\n",
              "      <td>7.119049</td>\n",
              "      <td>-4.8</td>\n",
              "      <td>17.9</td>\n",
              "      <td>22.6</td>\n",
              "      <td>28.2</td>\n",
              "      <td>48.1</td>\n",
              "    </tr>\n",
              "    <tr>\n",
              "      <th>Rainfall</th>\n",
              "      <td>142199.0</td>\n",
              "      <td>2.360918</td>\n",
              "      <td>8.478060</td>\n",
              "      <td>0.0</td>\n",
              "      <td>0.0</td>\n",
              "      <td>0.0</td>\n",
              "      <td>0.8</td>\n",
              "      <td>371.0</td>\n",
              "    </tr>\n",
              "    <tr>\n",
              "      <th>Evaporation</th>\n",
              "      <td>82670.0</td>\n",
              "      <td>5.468232</td>\n",
              "      <td>4.193704</td>\n",
              "      <td>0.0</td>\n",
              "      <td>2.6</td>\n",
              "      <td>4.8</td>\n",
              "      <td>7.4</td>\n",
              "      <td>145.0</td>\n",
              "    </tr>\n",
              "    <tr>\n",
              "      <th>Sunshine</th>\n",
              "      <td>75625.0</td>\n",
              "      <td>7.611178</td>\n",
              "      <td>3.785483</td>\n",
              "      <td>0.0</td>\n",
              "      <td>4.8</td>\n",
              "      <td>8.4</td>\n",
              "      <td>10.6</td>\n",
              "      <td>14.5</td>\n",
              "    </tr>\n",
              "    <tr>\n",
              "      <th>WindGustSpeed</th>\n",
              "      <td>135197.0</td>\n",
              "      <td>40.035230</td>\n",
              "      <td>13.607062</td>\n",
              "      <td>6.0</td>\n",
              "      <td>31.0</td>\n",
              "      <td>39.0</td>\n",
              "      <td>48.0</td>\n",
              "      <td>135.0</td>\n",
              "    </tr>\n",
              "    <tr>\n",
              "      <th>WindSpeed9am</th>\n",
              "      <td>143693.0</td>\n",
              "      <td>14.043426</td>\n",
              "      <td>8.915375</td>\n",
              "      <td>0.0</td>\n",
              "      <td>7.0</td>\n",
              "      <td>13.0</td>\n",
              "      <td>19.0</td>\n",
              "      <td>130.0</td>\n",
              "    </tr>\n",
              "    <tr>\n",
              "      <th>WindSpeed3pm</th>\n",
              "      <td>142398.0</td>\n",
              "      <td>18.662657</td>\n",
              "      <td>8.809800</td>\n",
              "      <td>0.0</td>\n",
              "      <td>13.0</td>\n",
              "      <td>19.0</td>\n",
              "      <td>24.0</td>\n",
              "      <td>87.0</td>\n",
              "    </tr>\n",
              "    <tr>\n",
              "      <th>Humidity9am</th>\n",
              "      <td>142806.0</td>\n",
              "      <td>68.880831</td>\n",
              "      <td>19.029164</td>\n",
              "      <td>0.0</td>\n",
              "      <td>57.0</td>\n",
              "      <td>70.0</td>\n",
              "      <td>83.0</td>\n",
              "      <td>100.0</td>\n",
              "    </tr>\n",
              "    <tr>\n",
              "      <th>Humidity3pm</th>\n",
              "      <td>140953.0</td>\n",
              "      <td>51.539116</td>\n",
              "      <td>20.795902</td>\n",
              "      <td>0.0</td>\n",
              "      <td>37.0</td>\n",
              "      <td>52.0</td>\n",
              "      <td>66.0</td>\n",
              "      <td>100.0</td>\n",
              "    </tr>\n",
              "    <tr>\n",
              "      <th>Pressure9am</th>\n",
              "      <td>130395.0</td>\n",
              "      <td>1017.649940</td>\n",
              "      <td>7.106530</td>\n",
              "      <td>980.5</td>\n",
              "      <td>1012.9</td>\n",
              "      <td>1017.6</td>\n",
              "      <td>1022.4</td>\n",
              "      <td>1041.0</td>\n",
              "    </tr>\n",
              "    <tr>\n",
              "      <th>Pressure3pm</th>\n",
              "      <td>130432.0</td>\n",
              "      <td>1015.255889</td>\n",
              "      <td>7.037414</td>\n",
              "      <td>977.1</td>\n",
              "      <td>1010.4</td>\n",
              "      <td>1015.2</td>\n",
              "      <td>1020.0</td>\n",
              "      <td>1039.6</td>\n",
              "    </tr>\n",
              "    <tr>\n",
              "      <th>Cloud9am</th>\n",
              "      <td>89572.0</td>\n",
              "      <td>4.447461</td>\n",
              "      <td>2.887159</td>\n",
              "      <td>0.0</td>\n",
              "      <td>1.0</td>\n",
              "      <td>5.0</td>\n",
              "      <td>7.0</td>\n",
              "      <td>9.0</td>\n",
              "    </tr>\n",
              "    <tr>\n",
              "      <th>Cloud3pm</th>\n",
              "      <td>86102.0</td>\n",
              "      <td>4.509930</td>\n",
              "      <td>2.720357</td>\n",
              "      <td>0.0</td>\n",
              "      <td>2.0</td>\n",
              "      <td>5.0</td>\n",
              "      <td>7.0</td>\n",
              "      <td>9.0</td>\n",
              "    </tr>\n",
              "    <tr>\n",
              "      <th>Temp9am</th>\n",
              "      <td>143693.0</td>\n",
              "      <td>16.990631</td>\n",
              "      <td>6.488753</td>\n",
              "      <td>-7.2</td>\n",
              "      <td>12.3</td>\n",
              "      <td>16.7</td>\n",
              "      <td>21.6</td>\n",
              "      <td>40.2</td>\n",
              "    </tr>\n",
              "    <tr>\n",
              "      <th>Temp3pm</th>\n",
              "      <td>141851.0</td>\n",
              "      <td>21.683390</td>\n",
              "      <td>6.936650</td>\n",
              "      <td>-5.4</td>\n",
              "      <td>16.6</td>\n",
              "      <td>21.1</td>\n",
              "      <td>26.4</td>\n",
              "      <td>46.7</td>\n",
              "    </tr>\n",
              "  </tbody>\n",
              "</table>\n",
              "</div>"
            ],
            "text/plain": [
              "                  count         mean        std    min     25%     50%  \\\n",
              "MinTemp        143975.0    12.194034   6.398495   -8.5     7.6    12.0   \n",
              "MaxTemp        144199.0    23.221348   7.119049   -4.8    17.9    22.6   \n",
              "Rainfall       142199.0     2.360918   8.478060    0.0     0.0     0.0   \n",
              "Evaporation     82670.0     5.468232   4.193704    0.0     2.6     4.8   \n",
              "Sunshine        75625.0     7.611178   3.785483    0.0     4.8     8.4   \n",
              "WindGustSpeed  135197.0    40.035230  13.607062    6.0    31.0    39.0   \n",
              "WindSpeed9am   143693.0    14.043426   8.915375    0.0     7.0    13.0   \n",
              "WindSpeed3pm   142398.0    18.662657   8.809800    0.0    13.0    19.0   \n",
              "Humidity9am    142806.0    68.880831  19.029164    0.0    57.0    70.0   \n",
              "Humidity3pm    140953.0    51.539116  20.795902    0.0    37.0    52.0   \n",
              "Pressure9am    130395.0  1017.649940   7.106530  980.5  1012.9  1017.6   \n",
              "Pressure3pm    130432.0  1015.255889   7.037414  977.1  1010.4  1015.2   \n",
              "Cloud9am        89572.0     4.447461   2.887159    0.0     1.0     5.0   \n",
              "Cloud3pm        86102.0     4.509930   2.720357    0.0     2.0     5.0   \n",
              "Temp9am        143693.0    16.990631   6.488753   -7.2    12.3    16.7   \n",
              "Temp3pm        141851.0    21.683390   6.936650   -5.4    16.6    21.1   \n",
              "\n",
              "                  75%     max  \n",
              "MinTemp          16.9    33.9  \n",
              "MaxTemp          28.2    48.1  \n",
              "Rainfall          0.8   371.0  \n",
              "Evaporation       7.4   145.0  \n",
              "Sunshine         10.6    14.5  \n",
              "WindGustSpeed    48.0   135.0  \n",
              "WindSpeed9am     19.0   130.0  \n",
              "WindSpeed3pm     24.0    87.0  \n",
              "Humidity9am      83.0   100.0  \n",
              "Humidity3pm      66.0   100.0  \n",
              "Pressure9am    1022.4  1041.0  \n",
              "Pressure3pm    1020.0  1039.6  \n",
              "Cloud9am          7.0     9.0  \n",
              "Cloud3pm          7.0     9.0  \n",
              "Temp9am          21.6    40.2  \n",
              "Temp3pm          26.4    46.7  "
            ]
          },
          "execution_count": 109,
          "metadata": {},
          "output_type": "execute_result"
        }
      ],
      "source": [
        "df[num_features].describe().T"
      ]
    },
    {
      "cell_type": "markdown",
      "metadata": {
        "id": "c0aPE_s5Cg7o"
      },
      "source": [
        "**Outlier**"
      ]
    },
    {
      "cell_type": "markdown",
      "metadata": {
        "id": "2t2KGZxKBgx9"
      },
      "source": [
        "Looks Like, the columns (**Rainfall, Evaporation, WindSpeed9am and WindSpeed3pm**) may contain outliers by looking at the min, mid, max number."
      ]
    },
    {
      "cell_type": "markdown",
      "metadata": {
        "id": "rmR0EsnZ-KuT"
      },
      "source": [
        "Check Outlier through BoxPlot"
      ]
    },
    {
      "cell_type": "code",
      "execution_count": 110,
      "metadata": {
        "colab": {
          "base_uri": "https://localhost:8080/",
          "height": 465
        },
        "id": "gKyC5ABx-KSS",
        "outputId": "3d625641-1f5d-4388-a352-cf7fb0cfe65f"
      },
      "outputs": [
        {
          "data": {
            "text/plain": [
              "Text(0, 0.5, 'WindSpeed3pm')"
            ]
          },
          "execution_count": 110,
          "metadata": {},
          "output_type": "execute_result"
        },
        {
          "data": {
            "image/png": "[encoded data removed]",
            "text/plain": [
              "<Figure size 800x500 with 4 Axes>"
            ]
          },
          "metadata": {},
          "output_type": "display_data"
        }
      ],
      "source": [
        "plt.figure(figsize=(8,5))\n",
        "\n",
        "#Rainfall\n",
        "plt.subplot(2, 2, 1)\n",
        "fig = df.boxplot(column='Rainfall')\n",
        "fig.set_title('')\n",
        "fig.set_ylabel('Rainfall')\n",
        "\n",
        "#Evaporation\n",
        "plt.subplot(2, 2, 2)\n",
        "fig = df.boxplot(column='Evaporation')\n",
        "fig.set_title('')\n",
        "fig.set_ylabel('Evaporation')\n",
        "\n",
        "#WindSpeed9am\n",
        "plt.subplot(2, 2, 3)\n",
        "fig = df.boxplot(column='WindSpeed9am')\n",
        "fig.set_title('')\n",
        "fig.set_ylabel('WindSpeed9am')\n",
        "\n",
        "#WindSpeed3pm\n",
        "plt.subplot(2, 2, 4)\n",
        "fig = df.boxplot(column='WindSpeed3pm')\n",
        "fig.set_title('')\n",
        "fig.set_ylabel('WindSpeed3pm')\n",
        "\n",
        "\n"
      ]
    },
    {
      "cell_type": "markdown",
      "metadata": {
        "id": "tkQv7uv_DbXj"
      },
      "source": [
        "**Statistical tool :  The 5-number summary**\n",
        "\n",
        "The 5-number summary is a valuable statistical tool for understanding data distribution and identifying outliers. It consists of five key values, look above code 'describe ()':\n",
        "- the minimum (smallest data point),\n",
        "- the first quartile (Q1),\n",
        "- the median (Q2 or the second quartile),\n",
        "- the third quartile (Q3), and\n",
        "- the maximum (largest data point).\n",
        "\n",
        "\n",
        "**To detect outliers**\n",
        "\n",
        "we focus on the interquartile range **(IQR)**,\n",
        "\n",
        "calculated as:\n",
        "\n",
        "**IQR = Q3 - Q1**\n",
        "\n",
        "This IQR represents the middle 50% of the data.\n",
        "\n",
        "Outliers are identified as values that fall significantly lower fence and higher fence.\n",
        "\n",
        "**Lower fence = Q1 - 1.5 * IQR**\n",
        "\n",
        "**Higher fence = Q3 + 1.5 * IQR**\n",
        "\n",
        "Essentially, the 5-number summary with IQR helps us pinpoint unusual data points that might deviate from the overall pattern and warrant closer investigation.\n"
      ]
    },
    {
      "cell_type": "code",
      "execution_count": 111,
      "metadata": {
        "colab": {
          "base_uri": "https://localhost:8080/"
        },
        "id": "HIEe2L1e9sEv",
        "outputId": "2595d63d-e386-4e5e-b221-aeddf10f68e6"
      },
      "outputs": [
        {
          "name": "stdout",
          "output_type": "stream",
          "text": [
            "Lower fence of Rainfall: -1.2000000000000002\n",
            "Higher fence of Rainfall: 2.0\n"
          ]
        }
      ],
      "source": [
        "# lower and higher fence of Rainfall columns\n",
        "IQR = df.Rainfall.quantile(0.75) - df.Rainfall.quantile(0.25)\n",
        "Lower_fence = df.Rainfall.quantile(0.25) - (1.5 * IQR)\n",
        "Higher_fence = df.Rainfall.quantile(0.75) + (1.5 * IQR)\n",
        "\n",
        "print('Lower fence of Rainfall:',Lower_fence)\n",
        "print('Higher fence of Rainfall:',Higher_fence)"
      ]
    },
    {
      "cell_type": "code",
      "execution_count": 112,
      "metadata": {
        "colab": {
          "base_uri": "https://localhost:8080/"
        },
        "id": "FVApFo5ULGZ5",
        "outputId": "1449596c-1982-4792-fe5b-e4cd49544460"
      },
      "outputs": [
        {
          "name": "stdout",
          "output_type": "stream",
          "text": [
            "Lower fence of Evaporation: -4.600000000000001\n",
            "Higher fence of Evaporation: 14.600000000000001\n"
          ]
        }
      ],
      "source": [
        "# lower and higher fence of Evaporation columns\n",
        "IQR = df.Evaporation.quantile(0.75) - df.Evaporation.quantile(0.25)\n",
        "Lower_fence = df.Evaporation.quantile(0.25) - (1.5 * IQR)\n",
        "Higher_fence = df.Evaporation.quantile(0.75) + (1.5 * IQR)\n",
        "\n",
        "print('Lower fence of Evaporation:',Lower_fence)\n",
        "print('Higher fence of Evaporation:',Higher_fence)"
      ]
    },
    {
      "cell_type": "code",
      "execution_count": 113,
      "metadata": {
        "colab": {
          "base_uri": "https://localhost:8080/"
        },
        "id": "FnwcE1B1LfXt",
        "outputId": "386e3848-fbad-4c3d-b3be-a2253fddb704"
      },
      "outputs": [
        {
          "name": "stdout",
          "output_type": "stream",
          "text": [
            "Lower fence of WindSpeed9am: -11.0\n",
            "Higher fence of WindSpeed9am: 37.0\n"
          ]
        }
      ],
      "source": [
        "# lower and higher fence of WindSpeed9am columns\n",
        "IQR = df.WindSpeed9am.quantile(0.75) - df.WindSpeed9am.quantile(0.25)\n",
        "Lower_fence = df.WindSpeed9am.quantile(0.25) - (1.5 * IQR)\n",
        "Higher_fence = df.WindSpeed9am.quantile(0.75) + (1.5 * IQR)\n",
        "\n",
        "print('Lower fence of WindSpeed9am:',Lower_fence)\n",
        "print('Higher fence of WindSpeed9am:',Higher_fence)"
      ]
    },
    {
      "cell_type": "code",
      "execution_count": 114,
      "metadata": {
        "colab": {
          "base_uri": "https://localhost:8080/"
        },
        "id": "NI_RmM-vLo6i",
        "outputId": "033c128d-bc57-4c92-9225-f0a61623a280"
      },
      "outputs": [
        {
          "name": "stdout",
          "output_type": "stream",
          "text": [
            "Lower fence of WindSpeed3pm: -3.5\n",
            "Higher fence of WindSpeed3pm: 40.5\n"
          ]
        }
      ],
      "source": [
        "# lower and higher fence of WindSpeed3pm columns\n",
        "IQR = df.WindSpeed3pm.quantile(0.75) - df.WindSpeed3pm.quantile(0.25)\n",
        "Lower_fence = df.WindSpeed3pm.quantile(0.25) - (1.5 * IQR)\n",
        "Higher_fence = df.WindSpeed3pm.quantile(0.75) + (1.5 * IQR)\n",
        "\n",
        "print('Lower fence of WindSpeed3pm:',Lower_fence)\n",
        "print('Higher fence of WindSpeed3pm:',Higher_fence)"
      ]
    },
    {
      "cell_type": "markdown",
      "metadata": {
        "id": "VDafQTj_MExT"
      },
      "source": [
        "# Split"
      ]
    },
    {
      "cell_type": "code",
      "execution_count": 115,
      "metadata": {
        "id": "3WvR-GNlMHQV"
      },
      "outputs": [],
      "source": [
        "# split into target variable and feature matrix\n",
        "X = df.drop(['RainTomorrow'], axis=1)\n",
        "y = df['RainTomorrow']"
      ]
    },
    {
      "cell_type": "code",
      "execution_count": 116,
      "metadata": {},
      "outputs": [
        {
          "name": "stdout",
          "output_type": "stream",
          "text": [
            "Requirement already satisfied: scikit-learn in c:\\users\\faruk\\anaconda3\\lib\\site-packages (1.3.1)\n",
            "Requirement already satisfied: numpy<2.0,>=1.17.3 in c:\\users\\faruk\\anaconda3\\lib\\site-packages (from scikit-learn) (1.24.3)\n",
            "Requirement already satisfied: scipy>=1.5.0 in c:\\users\\faruk\\anaconda3\\lib\\site-packages (from scikit-learn) (1.11.1)\n",
            "Requirement already satisfied: joblib>=1.1.1 in c:\\users\\faruk\\anaconda3\\lib\\site-packages (from scikit-learn) (1.2.0)\n",
            "Requirement already satisfied: threadpoolctl>=2.0.0 in c:\\users\\faruk\\anaconda3\\lib\\site-packages (from scikit-learn) (2.2.0)\n",
            "Note: you may need to restart the kernel to use updated packages.\n"
          ]
        }
      ],
      "source": [
        "pip install -U scikit-learn"
      ]
    },
    {
      "cell_type": "code",
      "execution_count": 117,
      "metadata": {
        "colab": {
          "base_uri": "https://localhost:8080/"
        },
        "id": "wehoiGj9MXeT",
        "outputId": "66ce4ae7-110f-44b0-9cb8-0f871604736c"
      },
      "outputs": [
        {
          "name": "stdout",
          "output_type": "stream",
          "text": [
            "X_train: (116368, 24)\n",
            "y_train: (116368,)\n",
            "X_test: (29092, 24)\n",
            "y_test: (29092,)\n"
          ]
        }
      ],
      "source": [
        "# split into training and testing sets\n",
        "\n",
        "from sklearn.model_selection import train_test_split\n",
        "X_train, X_test, y_train, y_test = train_test_split(X, y, test_size = 0.2, random_state = 0)\n",
        "print('X_train:',X_train.shape)\n",
        "print('y_train:',y_train.shape)\n",
        "print('X_test:',X_test.shape)\n",
        "print('y_test:',y_test.shape)"
      ]
    },
    {
      "cell_type": "code",
      "execution_count": 118,
      "metadata": {
        "colab": {
          "base_uri": "https://localhost:8080/"
        },
        "id": "woi4yvRHfvGV",
        "outputId": "ed605d72-4847-4998-84f6-414a0bcd5a8e"
      },
      "outputs": [
        {
          "data": {
            "text/plain": [
              "Index(['Location', 'MinTemp', 'MaxTemp', 'Rainfall', 'Evaporation', 'Sunshine',\n",
              "       'WindGustDir', 'WindGustSpeed', 'WindDir9am', 'WindDir3pm',\n",
              "       'WindSpeed9am', 'WindSpeed3pm', 'Humidity9am', 'Humidity3pm',\n",
              "       'Pressure9am', 'Pressure3pm', 'Cloud9am', 'Cloud3pm', 'Temp9am',\n",
              "       'Temp3pm', 'RainToday', 'Year', 'Month', 'Day'],\n",
              "      dtype='object')"
            ]
          },
          "execution_count": 118,
          "metadata": {},
          "output_type": "execute_result"
        }
      ],
      "source": [
        "X_train.columns"
      ]
    },
    {
      "cell_type": "markdown",
      "metadata": {
        "id": "4exUbuIgNToI"
      },
      "source": [
        "# Feature Engineering"
      ]
    },
    {
      "cell_type": "markdown",
      "metadata": {
        "id": "5Bt2MU2hNWAQ"
      },
      "source": [
        "**What is feature engineering?**\n",
        "\n",
        "\n",
        "Feature Engineering is like turning plain data into valuable building blocks for our model. These 'building blocks' help our model understand things better and make more accurate predictions. We do this by playing around with different types of data and shaping them into something our model can use effectively."
      ]
    },
    {
      "cell_type": "markdown",
      "metadata": {
        "id": "otzrav3dgaqz"
      },
      "source": []
    },
    {
      "cell_type": "code",
      "execution_count": 119,
      "metadata": {
        "id": "faxHP9XfgQrN"
      },
      "outputs": [],
      "source": [
        "cat_col = X_train.select_dtypes(include='object').columns\n",
        "num_col = X_train.select_dtypes(exclude='object').columns"
      ]
    },
    {
      "cell_type": "markdown",
      "metadata": {
        "id": "ZhD8Do1thY2_"
      },
      "source": [
        "**Handling the NaN values**"
      ]
    },
    {
      "cell_type": "code",
      "execution_count": 120,
      "metadata": {
        "colab": {
          "base_uri": "https://localhost:8080/"
        },
        "id": "KHF-5QIVhGRp",
        "outputId": "4f6d95b3-b97c-4be8-b524-bca408029388"
      },
      "outputs": [
        {
          "data": {
            "text/plain": [
              "Location          0\n",
              "WindGustDir    8270\n",
              "WindDir9am     8448\n",
              "WindDir3pm     3369\n",
              "RainToday      2617\n",
              "dtype: int64"
            ]
          },
          "execution_count": 120,
          "metadata": {},
          "output_type": "execute_result"
        }
      ],
      "source": [
        "X_train[cat_col].isnull().sum()"
      ]
    },
    {
      "cell_type": "code",
      "execution_count": 121,
      "metadata": {
        "colab": {
          "base_uri": "https://localhost:8080/"
        },
        "id": "hxYB5mDXN5Sd",
        "outputId": "bd872e1d-c1a6-4b17-9fd2-6da7b2c3e936"
      },
      "outputs": [
        {
          "data": {
            "text/plain": [
              "MinTemp           1183\n",
              "MaxTemp           1019\n",
              "Rainfall          2617\n",
              "Evaporation      50355\n",
              "Sunshine         55899\n",
              "WindGustSpeed     8218\n",
              "WindSpeed9am      1409\n",
              "WindSpeed3pm      2456\n",
              "Humidity9am       2147\n",
              "Humidity3pm       3598\n",
              "Pressure9am      12091\n",
              "Pressure3pm      12064\n",
              "Cloud9am         44796\n",
              "Cloud3pm         47557\n",
              "Temp9am           1415\n",
              "Temp3pm           2865\n",
              "Year                 0\n",
              "Month                0\n",
              "Day                  0\n",
              "dtype: int64"
            ]
          },
          "execution_count": 121,
          "metadata": {},
          "output_type": "execute_result"
        }
      ],
      "source": [
        "X_train[num_col].isnull().sum()"
      ]
    },
    {
      "cell_type": "code",
      "execution_count": 122,
      "metadata": {
        "colab": {
          "base_uri": "https://localhost:8080/"
        },
        "id": "c_ZH9ep-Nc6g",
        "outputId": "190cc5bc-3e82-49b4-a0fa-f87f182d2580"
      },
      "outputs": [
        {
          "data": {
            "text/plain": [
              "2623"
            ]
          },
          "execution_count": 122,
          "metadata": {},
          "output_type": "execute_result"
        }
      ],
      "source": [
        "y_train.isnull().sum()"
      ]
    },
    {
      "cell_type": "code",
      "execution_count": 123,
      "metadata": {
        "colab": {
          "base_uri": "https://localhost:8080/"
        },
        "id": "0Bz_12wkNtOW",
        "outputId": "6778599b-7255-4afa-950b-dc170ae649f0"
      },
      "outputs": [
        {
          "data": {
            "text/plain": [
              "644"
            ]
          },
          "execution_count": 123,
          "metadata": {},
          "output_type": "execute_result"
        }
      ],
      "source": [
        "y_test.isnull().sum()"
      ]
    },
    {
      "cell_type": "markdown",
      "metadata": {
        "id": "0FMb9r1AQE4u"
      },
      "source": [
        "Deleting the rows with Null values in target column because in compare to the size of total data null values in target column are very low and it is better to not making changes or edit in target column"
      ]
    },
    {
      "cell_type": "code",
      "execution_count": 124,
      "metadata": {
        "id": "tPYqlGBYQGqH"
      },
      "outputs": [],
      "source": [
        "y_train = y_train.notna()"
      ]
    },
    {
      "cell_type": "code",
      "execution_count": 125,
      "metadata": {
        "id": "BS9zu8tQQas5"
      },
      "outputs": [],
      "source": [
        "y_test = y_test.notna()"
      ]
    },
    {
      "cell_type": "code",
      "execution_count": 126,
      "metadata": {
        "colab": {
          "base_uri": "https://localhost:8080/"
        },
        "id": "XHDjyu6YQhUw",
        "outputId": "0fb58222-36e4-472a-c3cb-d003f12a5302"
      },
      "outputs": [
        {
          "data": {
            "text/plain": [
              "0"
            ]
          },
          "execution_count": 126,
          "metadata": {},
          "output_type": "execute_result"
        }
      ],
      "source": [
        "y_train.isnull().sum()"
      ]
    },
    {
      "cell_type": "code",
      "execution_count": 127,
      "metadata": {
        "colab": {
          "base_uri": "https://localhost:8080/"
        },
        "id": "9wkQaqzcQjcC",
        "outputId": "aa9de6b2-6c97-44d4-aa32-4ef6f55a982c"
      },
      "outputs": [
        {
          "data": {
            "text/plain": [
              "0"
            ]
          },
          "execution_count": 127,
          "metadata": {},
          "output_type": "execute_result"
        }
      ],
      "source": [
        "y_test.isnull().sum()"
      ]
    },
    {
      "cell_type": "markdown",
      "metadata": {
        "id": "sAq52xE9h6Pi"
      },
      "source": [
        "**Imputatiuon**\n",
        "\n",
        "There are two methods can be used to impute missing values.\n",
        "- mean or median imputation\n",
        "- random sample imputation.\n",
        "\n",
        "When there are outliers in the dataset, we should use median imputation."
      ]
    },
    {
      "cell_type": "markdown",
      "metadata": {
        "id": "m2dALIyOjuVq"
      },
      "source": [
        "Imputation on Numerical values"
      ]
    },
    {
      "cell_type": "code",
      "execution_count": 128,
      "metadata": {
        "id": "50SlPA1_iR0K"
      },
      "outputs": [],
      "source": [
        "# Fill missing values in numerical columns with their respective medians for both X_train and X_test\n",
        "for df1 in [X_train, X_test]:\n",
        "    for col in num_col:\n",
        "        col_median = X_train[col].median()  # Calculate median for the column\n",
        "        df1[col].fillna(col_median, inplace=True)  # Fill missing values in the column with the median\n"
      ]
    },
    {
      "cell_type": "code",
      "execution_count": 129,
      "metadata": {
        "colab": {
          "base_uri": "https://localhost:8080/"
        },
        "id": "ttWXifztj5_b",
        "outputId": "acc273df-eb7b-4ba8-e18c-02f9b1a813c9"
      },
      "outputs": [
        {
          "data": {
            "text/plain": [
              "MinTemp          0\n",
              "MaxTemp          0\n",
              "Rainfall         0\n",
              "Evaporation      0\n",
              "Sunshine         0\n",
              "WindGustSpeed    0\n",
              "WindSpeed9am     0\n",
              "WindSpeed3pm     0\n",
              "Humidity9am      0\n",
              "Humidity3pm      0\n",
              "Pressure9am      0\n",
              "Pressure3pm      0\n",
              "Cloud9am         0\n",
              "Cloud3pm         0\n",
              "Temp9am          0\n",
              "Temp3pm          0\n",
              "Year             0\n",
              "Month            0\n",
              "Day              0\n",
              "dtype: int64"
            ]
          },
          "execution_count": 129,
          "metadata": {},
          "output_type": "execute_result"
        }
      ],
      "source": [
        "X_train[num_col].isnull().sum()"
      ]
    },
    {
      "cell_type": "markdown",
      "metadata": {
        "id": "7WxZTmGxnYvS"
      },
      "source": [
        "Handling NaN values of catagorical variable"
      ]
    },
    {
      "cell_type": "code",
      "execution_count": 130,
      "metadata": {
        "colab": {
          "base_uri": "https://localhost:8080/"
        },
        "id": "TVnQlu-BngCE",
        "outputId": "92860a94-38f4-4fec-937e-4a4fbe88beaa"
      },
      "outputs": [
        {
          "data": {
            "text/plain": [
              "Location          0\n",
              "WindGustDir    8270\n",
              "WindDir9am     8448\n",
              "WindDir3pm     3369\n",
              "RainToday      2617\n",
              "dtype: int64"
            ]
          },
          "execution_count": 130,
          "metadata": {},
          "output_type": "execute_result"
        }
      ],
      "source": [
        "X_train[cat_col].isnull().sum()"
      ]
    },
    {
      "cell_type": "code",
      "execution_count": 131,
      "metadata": {
        "id": "wuNS5eGm5zdX"
      },
      "outputs": [],
      "source": [
        "from sklearn.impute import SimpleImputer\n",
        "\n",
        "imputer = SimpleImputer(strategy='most_frequent')\n",
        "\n",
        "# Fit and transform on X_train\n",
        "X_train[cat_col] = imputer.fit_transform(X_train[cat_col])\n",
        "\n",
        "# Transform X_test\n",
        "X_test[cat_col] = imputer.transform(X_test[cat_col])\n"
      ]
    },
    {
      "cell_type": "code",
      "execution_count": 132,
      "metadata": {
        "colab": {
          "base_uri": "https://localhost:8080/"
        },
        "id": "51KzkuYn76kE",
        "outputId": "74b079f6-123f-4433-b6e7-4fdd9af7618b"
      },
      "outputs": [
        {
          "data": {
            "text/plain": [
              "Location       0\n",
              "WindGustDir    0\n",
              "WindDir9am     0\n",
              "WindDir3pm     0\n",
              "RainToday      0\n",
              "dtype: int64"
            ]
          },
          "execution_count": 132,
          "metadata": {},
          "output_type": "execute_result"
        }
      ],
      "source": [
        "X_train[cat_col].isnull().sum()"
      ]
    },
    {
      "cell_type": "code",
      "execution_count": 133,
      "metadata": {
        "colab": {
          "base_uri": "https://localhost:8080/"
        },
        "id": "zc2vGTlk8ByO",
        "outputId": "def31486-ff44-4f04-9eb0-09ef62acb890"
      },
      "outputs": [
        {
          "data": {
            "text/plain": [
              "Location       0\n",
              "WindGustDir    0\n",
              "WindDir9am     0\n",
              "WindDir3pm     0\n",
              "RainToday      0\n",
              "dtype: int64"
            ]
          },
          "execution_count": 133,
          "metadata": {},
          "output_type": "execute_result"
        }
      ],
      "source": [
        "X_test[cat_col].isnull().sum()"
      ]
    },
    {
      "cell_type": "markdown",
      "metadata": {
        "id": "AxzVFdxfERkz"
      },
      "source": [
        "Here, we do One Hot Encoding of Catagotical variable and get k-1 dummy variables after One Hot Encoding"
      ]
    },
    {
      "cell_type": "code",
      "execution_count": 134,
      "metadata": {
        "colab": {
          "base_uri": "https://localhost:8080/"
        },
        "id": "qRxbh52gG7e_",
        "outputId": "6c258446-bb4d-4059-a362-88a32c2bd501"
      },
      "outputs": [
        {
          "name": "stdout",
          "output_type": "stream",
          "text": [
            "        MinTemp  MaxTemp  Rainfall  Evaporation  Sunshine  WindGustSpeed  \\\n",
            "22926      18.8     23.7       0.2          5.0       7.3           52.0   \n",
            "80735       9.3     24.0       0.2          1.6      10.9           48.0   \n",
            "121764     10.9     22.2       1.4          1.2       9.6           26.0   \n",
            "139821     19.3     29.9       0.0          9.2      11.0           43.0   \n",
            "1867       15.7     17.6      12.4          4.7       8.4           20.0   \n",
            "...         ...      ...       ...          ...       ...            ...   \n",
            "41993      17.8     38.1       0.0         26.0       8.4           39.0   \n",
            "97639      12.5     27.3       0.0          4.7      10.0           30.0   \n",
            "95939      17.0     29.8       0.0          5.6       8.4           22.0   \n",
            "117952     11.9     22.0       3.8          6.2       7.7           35.0   \n",
            "43567      12.0     16.7       0.8          4.7       8.4           50.0   \n",
            "\n",
            "        WindSpeed9am  WindSpeed3pm  Humidity9am  Humidity3pm  ...      S  \\\n",
            "22926           31.0          28.0         74.0         73.0  ...  False   \n",
            "80735           13.0          24.0         74.0         55.0  ...  False   \n",
            "121764           0.0          11.0         85.0         47.0  ...  False   \n",
            "139821          26.0          17.0         44.0         37.0  ...  False   \n",
            "1867            11.0          13.0        100.0        100.0  ...  False   \n",
            "...              ...           ...          ...          ...  ...    ...   \n",
            "41993            7.0          13.0         61.0         30.0  ...  False   \n",
            "97639            0.0          13.0         60.0         32.0  ...  False   \n",
            "95939            4.0          13.0         77.0         54.0  ...  False   \n",
            "117952          19.0          24.0         55.0         49.0  ...  False   \n",
            "43567           31.0          24.0         59.0         51.0  ...  False   \n",
            "\n",
            "           SE    SSE    SSW     SW      W    WNW    WSW     No    Yes  \n",
            "22926   False  False  False  False  False  False  False   True  False  \n",
            "80735   False  False  False  False  False  False  False   True  False  \n",
            "121764  False  False  False   True  False  False  False  False   True  \n",
            "139821  False  False  False  False  False  False  False   True  False  \n",
            "1867    False  False  False  False  False  False  False  False   True  \n",
            "...       ...    ...    ...    ...    ...    ...    ...    ...    ...  \n",
            "41993   False  False  False  False  False  False  False   True  False  \n",
            "97639   False  False  False  False  False   True  False   True  False  \n",
            "95939   False  False  False  False  False  False  False   True  False  \n",
            "117952  False  False  False  False  False   True  False  False   True  \n",
            "43567   False   True  False  False  False  False  False   True  False  \n",
            "\n",
            "[116368 rows x 118 columns]\n"
          ]
        }
      ],
      "source": [
        "# One-hot encode the specified columns\n",
        "encoded_location = pd.get_dummies(X_train['Location'])\n",
        "encoded_wind_gust_dir = pd.get_dummies(X_train['WindGustDir'])\n",
        "encoded_wind_dir_9am = pd.get_dummies(X_train['WindDir9am'])\n",
        "encoded_wind_dir_3pm = pd.get_dummies(X_train['WindDir3pm'])\n",
        "encoded_RainToday = pd.get_dummies(X_train['RainToday'])\n",
        "\n",
        "# Concatenate the one-hot encoded columns to X_train\n",
        "X_train = pd.concat([X_train, encoded_location, encoded_wind_gust_dir, encoded_wind_dir_9am, encoded_wind_dir_3pm, encoded_RainToday], axis=1)\n",
        "\n",
        "# Drop the original categorical columns\n",
        "X_train.drop(['Location', 'WindGustDir', 'WindDir9am', 'WindDir3pm', 'RainToday'], axis=1, inplace=True)\n",
        "\n",
        "# Display the updated X_train DataFrame\n",
        "print(X_train)\n",
        "\n"
      ]
    },
    {
      "cell_type": "code",
      "execution_count": 135,
      "metadata": {
        "colab": {
          "base_uri": "https://localhost:8080/"
        },
        "id": "TKkKDpHRLCnU",
        "outputId": "a56bfd28-9a06-4859-b707-086d3f65d34d"
      },
      "outputs": [
        {
          "name": "stdout",
          "output_type": "stream",
          "text": [
            "        MinTemp  MaxTemp  Rainfall  Evaporation  Sunshine  WindGustSpeed  \\\n",
            "138175     21.9     39.4       1.6         11.2      11.5           57.0   \n",
            "38638      20.5     37.5       0.0          9.2       8.4           59.0   \n",
            "124058      5.1     17.2       0.2          4.7       8.4           50.0   \n",
            "99214      11.9     16.8       1.0          4.7       8.4           28.0   \n",
            "25097       7.5     21.3       0.0          4.7       8.4           15.0   \n",
            "...         ...      ...       ...          ...       ...            ...   \n",
            "133493     18.2     24.4       8.0          4.7       8.4           44.0   \n",
            "43818       9.4     18.0       0.0          4.7       8.4           48.0   \n",
            "28118      10.6     15.4       6.0          1.6       8.4           28.0   \n",
            "120179     18.6     26.9       0.0          4.0       7.2           63.0   \n",
            "30398       7.0     16.8       0.0          4.0      10.7           39.0   \n",
            "\n",
            "        WindSpeed9am  WindSpeed3pm  Humidity9am  Humidity3pm  ...      S  \\\n",
            "138175          20.0          33.0         50.0         26.0  ...  False   \n",
            "38638           17.0          20.0         47.0         22.0  ...  False   \n",
            "124058          28.0          22.0         68.0         51.0  ...  False   \n",
            "99214           11.0          13.0         80.0         79.0  ...  False   \n",
            "25097            2.0           7.0         88.0         52.0  ...  False   \n",
            "...              ...           ...          ...          ...  ...    ...   \n",
            "133493          13.0          20.0         85.0         70.0  ...  False   \n",
            "43818           26.0          17.0         54.0         37.0  ...  False   \n",
            "28118           17.0           7.0         90.0         67.0  ...  False   \n",
            "120179          28.0          24.0         67.0         53.0  ...  False   \n",
            "30398           17.0          19.0         66.0         44.0  ...  False   \n",
            "\n",
            "           SE    SSE    SSW     SW      W    WNW    WSW     No    Yes  \n",
            "138175  False  False  False  False  False  False  False  False   True  \n",
            "38638   False  False  False  False  False  False  False   True  False  \n",
            "124058  False  False  False  False   True  False  False   True  False  \n",
            "99214   False  False  False   True  False  False  False   True  False  \n",
            "25097   False  False  False  False  False  False  False   True  False  \n",
            "...       ...    ...    ...    ...    ...    ...    ...    ...    ...  \n",
            "133493  False  False  False  False  False  False  False  False   True  \n",
            "43818   False  False  False  False  False  False   True   True  False  \n",
            "28118   False  False  False  False  False  False  False  False   True  \n",
            "120179  False  False  False  False  False  False  False   True  False  \n",
            "30398   False  False  False  False  False  False  False   True  False  \n",
            "\n",
            "[29092 rows x 118 columns]\n"
          ]
        }
      ],
      "source": [
        "# One-hot encode the specified columns for X_test\n",
        "encoded_location_test = pd.get_dummies(X_test['Location'])\n",
        "encoded_wind_gust_dir_test = pd.get_dummies(X_test['WindGustDir'])\n",
        "encoded_wind_dir_9am_test = pd.get_dummies(X_test['WindDir9am'])\n",
        "encoded_wind_dir_3pm_test = pd.get_dummies(X_test['WindDir3pm'])\n",
        "encoded_RainToday_test = pd.get_dummies(X_test['RainToday'])\n",
        "\n",
        "# Concatenate the one-hot encoded columns to X_test\n",
        "X_test = pd.concat([X_test, encoded_location_test, encoded_wind_gust_dir_test, encoded_wind_dir_9am_test, encoded_wind_dir_3pm_test,encoded_RainToday_test], axis=1)\n",
        "\n",
        "# Drop the original categorical columns\n",
        "X_test.drop(['Location', 'WindGustDir', 'WindDir9am', 'WindDir3pm','RainToday'], axis=1, inplace=True)\n",
        "\n",
        "# Display the updated X_test DataFrame\n",
        "print(X_test)\n"
      ]
    },
    {
      "cell_type": "code",
      "execution_count": 136,
      "metadata": {
        "colab": {
          "base_uri": "https://localhost:8080/"
        },
        "id": "SR0iwY_aFO5m",
        "outputId": "5e58646c-b8b6-45ac-9df4-df9e47c14c4c"
      },
      "outputs": [
        {
          "data": {
            "text/plain": [
              "(116368, 118)"
            ]
          },
          "execution_count": 136,
          "metadata": {},
          "output_type": "execute_result"
        }
      ],
      "source": [
        "X_train.shape"
      ]
    },
    {
      "cell_type": "code",
      "execution_count": 137,
      "metadata": {
        "colab": {
          "base_uri": "https://localhost:8080/"
        },
        "id": "-zK1vAXr-EXU",
        "outputId": "951a766b-4829-4c77-dcd1-436427257805"
      },
      "outputs": [
        {
          "data": {
            "text/plain": [
              "(29092, 118)"
            ]
          },
          "execution_count": 137,
          "metadata": {},
          "output_type": "execute_result"
        }
      ],
      "source": [
        "X_test.shape"
      ]
    },
    {
      "cell_type": "markdown",
      "metadata": {
        "id": "sajpKT9WAlH6"
      },
      "source": [
        "**Feature Scaling**"
      ]
    },
    {
      "cell_type": "markdown",
      "metadata": {
        "id": "oWBDDc6OCZnb"
      },
      "source": [
        "**Normalization**\n",
        "\n",
        "Normalization is a technique in feature scaling that helps bring all feature values into the range [0, 1].\n",
        "\n",
        "It's particularly useful when the features have different units or scales, ensuring they have a consistent impact on the model."
      ]
    },
    {
      "cell_type": "code",
      "execution_count": 138,
      "metadata": {
        "id": "_hFAhgA8B3aE"
      },
      "outputs": [],
      "source": [
        "from sklearn.preprocessing import MinMaxScaler\n",
        "\n",
        "scaler = MinMaxScaler()\n",
        "\n",
        "X_train = scaler.fit_transform(X_train)\n",
        "\n",
        "X_test = scaler.transform(X_test)"
      ]
    },
    {
      "cell_type": "code",
      "execution_count": 139,
      "metadata": {
        "colab": {
          "base_uri": "https://localhost:8080/"
        },
        "id": "9H7bVPKiI2xj",
        "outputId": "9cce77c8-9a18-4812-a645-3418a046cb3b"
      },
      "outputs": [
        {
          "data": {
            "text/plain": [
              "array([[6.75742574e-01, 5.38752363e-01, 5.44069641e-04, ...,\n",
              "        0.00000000e+00, 1.00000000e+00, 0.00000000e+00],\n",
              "       [4.40594059e-01, 5.44423440e-01, 5.44069641e-04, ...,\n",
              "        0.00000000e+00, 1.00000000e+00, 0.00000000e+00],\n",
              "       [4.80198020e-01, 5.10396975e-01, 3.80848749e-03, ...,\n",
              "        0.00000000e+00, 0.00000000e+00, 1.00000000e+00],\n",
              "       ...,\n",
              "       [6.31188119e-01, 6.54064272e-01, 0.00000000e+00, ...,\n",
              "        0.00000000e+00, 1.00000000e+00, 0.00000000e+00],\n",
              "       [5.04950495e-01, 5.06616257e-01, 1.03373232e-02, ...,\n",
              "        0.00000000e+00, 0.00000000e+00, 1.00000000e+00],\n",
              "       [5.07425743e-01, 4.06427221e-01, 2.17627856e-03, ...,\n",
              "        0.00000000e+00, 1.00000000e+00, 0.00000000e+00]])"
            ]
          },
          "execution_count": 139,
          "metadata": {},
          "output_type": "execute_result"
        }
      ],
      "source": [
        "X_train"
      ]
    },
    {
      "cell_type": "code",
      "execution_count": 140,
      "metadata": {},
      "outputs": [],
      "source": [
        "import pickle\n",
        "# Save the scaler to a pickle file\n",
        "with open('scaling.pkl', 'wb') as f:\n",
        "    pickle.dump(scaler, f)"
      ]
    },
    {
      "cell_type": "markdown",
      "metadata": {
        "id": "UErQGXOIMJ1_"
      },
      "source": [
        "# Building Model\n",
        "\n",
        "Baseline: The first step in building a model is baselining. To do this, ask yourself how you will know if the model you build is performing well?\"\n",
        "\n",
        "One way to think about this is to see how a \"dumb\" model would perform on the same data. Some people also call this a naïve or baseline model, but it's always a model makes only one prediction prediction should be.\n",
        "\n",
        "Calculate the mean of your target vector y_train and assign it to the variable y_mean.\n",
        "\n",
        "Now that we have the one prediction that our dumb model will always make, we need to generate a list that repeats the prediction for every observation in our dataset"
      ]
    },
    {
      "cell_type": "code",
      "execution_count": 141,
      "metadata": {
        "colab": {
          "base_uri": "https://localhost:8080/"
        },
        "id": "S2A9a1_TNAb9",
        "outputId": "933c376d-fb69-4dfc-910a-2814157727c5"
      },
      "outputs": [
        {
          "name": "stdout",
          "output_type": "stream",
          "text": [
            "Mean score: 0.9774594390210367\n"
          ]
        }
      ],
      "source": [
        "\n",
        "\n",
        "y_mean = y_train.mean()\n",
        "\n",
        "print(\"Mean score:\", y_mean)\n"
      ]
    },
    {
      "cell_type": "markdown",
      "metadata": {
        "id": "NRASAYXcQ-bF"
      },
      "source": [
        "y_train.mean() calculates the mean (average) of these target values, which is stored in the variable y_mean. It's the average math score of all students in the training set.\n"
      ]
    },
    {
      "cell_type": "markdown",
      "metadata": {
        "id": "7VWneI2ZRFg9"
      },
      "source": [
        "# Model Training\n",
        "The steps to building and using a model are:\n",
        "\n",
        "Define: What type of model will it be? A decision tree? Some other type of model? Some other parameters of the model type are specified too.\n",
        "\n",
        "Fit: Capture patterns from provided data. This is the heart of modeling.\n",
        "\n",
        "Predict: Just what it sounds like\n",
        "\n",
        "Evaluate: Determine how accurate the model's predictions are.\n",
        "\n",
        "Fitting simple linear regression\n",
        "\n",
        "Import the Logistic Regression class from the linear_model to train the model. Instantiate an object of the class named regressor."
      ]
    },
    {
      "cell_type": "markdown",
      "metadata": {
        "id": "ul6ZJ3-uRWmG"
      },
      "source": [
        "**Define the model**"
      ]
    },
    {
      "cell_type": "code",
      "execution_count": 142,
      "metadata": {
        "id": "OD_hLTKjQ5gq"
      },
      "outputs": [],
      "source": [
        "# train a logistic regression model on the training set\n",
        "from sklearn.linear_model import LogisticRegression\n",
        "\n",
        "# instantiate the model\n",
        "clf = LogisticRegression(random_state=0)"
      ]
    },
    {
      "cell_type": "markdown",
      "metadata": {
        "id": "WuCMDtLqRwfQ"
      },
      "source": [
        "**Fit The Model**"
      ]
    },
    {
      "cell_type": "code",
      "execution_count": 143,
      "metadata": {
        "colab": {
          "base_uri": "https://localhost:8080/",
          "height": 213
        },
        "id": "b2NfhRuWR0de",
        "outputId": "1ddd8c28-3e4b-4616-8865-9369ff3cb73b"
      },
      "outputs": [
        {
          "name": "stderr",
          "output_type": "stream",
          "text": [
            "c:\\Users\\faruk\\anaconda3\\Lib\\site-packages\\sklearn\\linear_model\\_logistic.py:460: ConvergenceWarning: lbfgs failed to converge (status=1):\n",
            "STOP: TOTAL NO. of ITERATIONS REACHED LIMIT.\n",
            "\n",
            "Increase the number of iterations (max_iter) or scale the data as shown in:\n",
            "    https://scikit-learn.org/stable/modules/preprocessing.html\n",
            "Please also refer to the documentation for alternative solver options:\n",
            "    https://scikit-learn.org/stable/modules/linear_model.html#logistic-regression\n",
            "  n_iter_i = _check_optimize_result(\n"
          ]
        },
        {
          "data": {
            "text/html": [
              "<style>#sk-container-id-2 {color: black;}#sk-container-id-2 pre{padding: 0;}#sk-container-id-2 div.sk-toggleable {background-color: white;}#sk-container-id-2 label.sk-toggleable__label {cursor: pointer;display: block;width: 100%;margin-bottom: 0;padding: 0.3em;box-sizing: border-box;text-align: center;}#sk-container-id-2 label.sk-toggleable__label-arrow:before {content: \"▸\";float: left;margin-right: 0.25em;color: #696969;}#sk-container-id-2 label.sk-toggleable__label-arrow:hover:before {color: black;}#sk-container-id-2 div.sk-estimator:hover label.sk-toggleable__label-arrow:before {color: black;}#sk-container-id-2 div.sk-toggleable__content {max-height: 0;max-width: 0;overflow: hidden;text-align: left;background-color: #f0f8ff;}#sk-container-id-2 div.sk-toggleable__content pre {margin: 0.2em;color: black;border-radius: 0.25em;background-color: #f0f8ff;}#sk-container-id-2 input.sk-toggleable__control:checked~div.sk-toggleable__content {max-height: 200px;max-width: 100%;overflow: auto;}#sk-container-id-2 input.sk-toggleable__control:checked~label.sk-toggleable__label-arrow:before {content: \"▾\";}#sk-container-id-2 div.sk-estimator input.sk-toggleable__control:checked~label.sk-toggleable__label {background-color: #d4ebff;}#sk-container-id-2 div.sk-label input.sk-toggleable__control:checked~label.sk-toggleable__label {background-color: #d4ebff;}#sk-container-id-2 input.sk-hidden--visually {border: 0;clip: rect(1px 1px 1px 1px);clip: rect(1px, 1px, 1px, 1px);height: 1px;margin: -1px;overflow: hidden;padding: 0;position: absolute;width: 1px;}#sk-container-id-2 div.sk-estimator {font-family: monospace;background-color: #f0f8ff;border: 1px dotted black;border-radius: 0.25em;box-sizing: border-box;margin-bottom: 0.5em;}#sk-container-id-2 div.sk-estimator:hover {background-color: #d4ebff;}#sk-container-id-2 div.sk-parallel-item::after {content: \"\";width: 100%;border-bottom: 1px solid gray;flex-grow: 1;}#sk-container-id-2 div.sk-label:hover label.sk-toggleable__label {background-color: #d4ebff;}#sk-container-id-2 div.sk-serial::before {content: \"\";position: absolute;border-left: 1px solid gray;box-sizing: border-box;top: 0;bottom: 0;left: 50%;z-index: 0;}#sk-container-id-2 div.sk-serial {display: flex;flex-direction: column;align-items: center;background-color: white;padding-right: 0.2em;padding-left: 0.2em;position: relative;}#sk-container-id-2 div.sk-item {position: relative;z-index: 1;}#sk-container-id-2 div.sk-parallel {display: flex;align-items: stretch;justify-content: center;background-color: white;position: relative;}#sk-container-id-2 div.sk-item::before, #sk-container-id-2 div.sk-parallel-item::before {content: \"\";position: absolute;border-left: 1px solid gray;box-sizing: border-box;top: 0;bottom: 0;left: 50%;z-index: -1;}#sk-container-id-2 div.sk-parallel-item {display: flex;flex-direction: column;z-index: 1;position: relative;background-color: white;}#sk-container-id-2 div.sk-parallel-item:first-child::after {align-self: flex-end;width: 50%;}#sk-container-id-2 div.sk-parallel-item:last-child::after {align-self: flex-start;width: 50%;}#sk-container-id-2 div.sk-parallel-item:only-child::after {width: 0;}#sk-container-id-2 div.sk-dashed-wrapped {border: 1px dashed gray;margin: 0 0.4em 0.5em 0.4em;box-sizing: border-box;padding-bottom: 0.4em;background-color: white;}#sk-container-id-2 div.sk-label label {font-family: monospace;font-weight: bold;display: inline-block;line-height: 1.2em;}#sk-container-id-2 div.sk-label-container {text-align: center;}#sk-container-id-2 div.sk-container {/* jupyter's `normalize.less` sets `[hidden] { display: none; }` but bootstrap.min.css set `[hidden] { display: none !important; }` so we also need the `!important` here to be able to override the default hidden behavior on the sphinx rendered scikit-learn.org. See: https://github.com/scikit-learn/scikit-learn/issues/21755 */display: inline-block !important;position: relative;}#sk-container-id-2 div.sk-text-repr-fallback {display: none;}</style><div id=\"sk-container-id-2\" class=\"sk-top-container\"><div class=\"sk-text-repr-fallback\"><pre>LogisticRegression(random_state=0)</pre><b>In a Jupyter environment, please rerun this cell to show the HTML representation or trust the notebook. <br />On GitHub, the HTML representation is unable to render, please try loading this page with nbviewer.org.</b></div><div class=\"sk-container\" hidden><div class=\"sk-item\"><div class=\"sk-estimator sk-toggleable\"><input class=\"sk-toggleable__control sk-hidden--visually\" id=\"sk-estimator-id-2\" type=\"checkbox\" checked><label for=\"sk-estimator-id-2\" class=\"sk-toggleable__label sk-toggleable__label-arrow\">LogisticRegression</label><div class=\"sk-toggleable__content\"><pre>LogisticRegression(random_state=0)</pre></div></div></div></div></div>"
            ],
            "text/plain": [
              "LogisticRegression(random_state=0)"
            ]
          },
          "execution_count": 143,
          "metadata": {},
          "output_type": "execute_result"
        }
      ],
      "source": [
        "# fit the model\n",
        "clf.fit(X_train, y_train)"
      ]
    },
    {
      "cell_type": "markdown",
      "metadata": {
        "id": "LmnvofkzR-iQ"
      },
      "source": [
        "**Predict The Model**"
      ]
    },
    {
      "cell_type": "code",
      "execution_count": 144,
      "metadata": {
        "colab": {
          "base_uri": "https://localhost:8080/"
        },
        "id": "ATYq49rNSA6r",
        "outputId": "b0a0c933-214a-4f96-fcc0-a0ea87691fb9"
      },
      "outputs": [
        {
          "data": {
            "text/plain": [
              "array([ True,  True,  True, ...,  True,  True,  True])"
            ]
          },
          "execution_count": 144,
          "metadata": {},
          "output_type": "execute_result"
        }
      ],
      "source": [
        "y_pred= clf.predict(X_test)\n",
        "\n",
        "y_pred"
      ]
    },
    {
      "cell_type": "markdown",
      "metadata": {
        "id": "a5HnuorXSShI"
      },
      "source": [
        "**Predicting test set result**\n",
        "\n",
        "At this point, the model is now trained and ready to predict the output of new observations. Remember, we split our dataset into train and test sets. We will provide test sets to the model and check its performance."
      ]
    },
    {
      "cell_type": "code",
      "execution_count": 145,
      "metadata": {
        "colab": {
          "base_uri": "https://localhost:8080/"
        },
        "id": "w9UIVhyfTDdU",
        "outputId": "2002f03f-c97b-42e6-bba0-1655f75a83f0"
      },
      "outputs": [
        {
          "name": "stdout",
          "output_type": "stream",
          "text": [
            "        Actual Value  Predicted Value  Prediction Correct\n",
            "138175          True             True                True\n",
            "38638           True             True                True\n",
            "124058          True             True                True\n",
            "99214           True             True                True\n",
            "25097           True             True                True\n",
            "...              ...              ...                 ...\n",
            "133493          True             True                True\n",
            "43818           True             True                True\n",
            "28118           True             True                True\n",
            "120179          True             True                True\n",
            "30398           True             True                True\n",
            "\n",
            "[29092 rows x 3 columns]\n"
          ]
        }
      ],
      "source": [
        "#y_test and y_pred are your actual and predicted labels\n",
        "prediction_df = pd.DataFrame({\n",
        "    'Actual Value': y_test,\n",
        "    'Predicted Value': y_pred,\n",
        "    'Prediction Correct': y_test == y_pred  # True if prediction is correct, False otherwise\n",
        "})\n",
        "\n",
        "# Display the prediction_df DataFrame\n",
        "print(prediction_df)"
      ]
    },
    {
      "cell_type": "markdown",
      "metadata": {
        "id": "4XcytcWeTTNa"
      },
      "source": [
        "**Evaluate the Model**"
      ]
    },
    {
      "cell_type": "code",
      "execution_count": 146,
      "metadata": {
        "colab": {
          "base_uri": "https://localhost:8080/"
        },
        "id": "uKtvHPTLTVNq",
        "outputId": "d05e84de-89bb-44bf-bfe1-63b6482e04bd"
      },
      "outputs": [
        {
          "name": "stdout",
          "output_type": "stream",
          "text": [
            "Model accuracy score:0.9768\n"
          ]
        }
      ],
      "source": [
        "from sklearn.metrics import accuracy_score\n",
        "\n",
        "print('Model accuracy score:{0:0.4f}'. format(accuracy_score(y_test, y_pred)))"
      ]
    },
    {
      "cell_type": "markdown",
      "metadata": {
        "id": "xLC-GzMLUBDi"
      },
      "source": [
        "Check for overfitting and underfitting:"
      ]
    },
    {
      "cell_type": "code",
      "execution_count": 147,
      "metadata": {
        "colab": {
          "base_uri": "https://localhost:8080/"
        },
        "id": "WhCylgohUEGt",
        "outputId": "939a21c4-2a64-4f4f-d532-0748702b6c97"
      },
      "outputs": [
        {
          "name": "stdout",
          "output_type": "stream",
          "text": [
            "Training set score: 0.9766\n",
            "Test set score: 0.9768\n"
          ]
        }
      ],
      "source": [
        "print('Training set score: {:.4f}'.format(clf.score(X_train, y_train)))\n",
        "\n",
        "print('Test set score: {:.4f}'.format(clf.score(X_test, y_test)))"
      ]
    },
    {
      "cell_type": "markdown",
      "metadata": {
        "id": "nkb7z31uFfz_"
      },
      "source": [
        "The training-set accuracy score is 0.9766 while the test-set accuracy to be 0.9768. These two values are quite comparable.\n",
        "\n",
        "So, there is no question of overfitting."
      ]
    },
    {
      "cell_type": "markdown",
      "metadata": {
        "id": "Rp51bOl3FtjR"
      },
      "source": [
        "**Performance Matrix**"
      ]
    },
    {
      "cell_type": "code",
      "execution_count": 148,
      "metadata": {
        "colab": {
          "base_uri": "https://localhost:8080/"
        },
        "id": "7XYLsK7VVjCy",
        "outputId": "bf25810d-0b04-47c9-faaa-9e2433194dd9"
      },
      "outputs": [
        {
          "name": "stdout",
          "output_type": "stream",
          "text": [
            "              precision    recall  f1-score   support\n",
            "\n",
            "       False       0.28      0.03      0.06       644\n",
            "        True       0.98      1.00      0.99     28448\n",
            "\n",
            "    accuracy                           0.98     29092\n",
            "   macro avg       0.63      0.51      0.52     29092\n",
            "weighted avg       0.96      0.98      0.97     29092\n",
            "\n"
          ]
        }
      ],
      "source": [
        "from sklearn.metrics import classification_report\n",
        "\n",
        "print(classification_report(y_test, y_pred))"
      ]
    },
    {
      "cell_type": "code",
      "execution_count": 149,
      "metadata": {
        "colab": {
          "base_uri": "https://localhost:8080/"
        },
        "id": "P2daWlxQU05U",
        "outputId": "7bd03498-42e8-42a2-dc57-e36cc07f0633"
      },
      "outputs": [
        {
          "name": "stdout",
          "output_type": "stream",
          "text": [
            "Accuracy: 0.9767633713735735\n",
            "Precision: 0.9784975878704342\n",
            "Recall: 0.9981721034870641\n",
            "F1 Score: 0.9882369318577295\n",
            "Confusion Matrix:\n",
            " [[   20   624]\n",
            " [   52 28396]]\n"
          ]
        }
      ],
      "source": [
        "from sklearn.metrics import accuracy_score, precision_score, recall_score, f1_score, confusion_matrix\n",
        "\n",
        "# Assuming y_test and y_pred are your actual and predicted labels\n",
        "accuracy = accuracy_score(y_test, y_pred)\n",
        "precision = precision_score(y_test, y_pred)\n",
        "recall = recall_score(y_test, y_pred)\n",
        "f1 = f1_score(y_test, y_pred)\n",
        "conf_matrix = confusion_matrix(y_test, y_pred)\n",
        "\n",
        "print('Accuracy:', accuracy)\n",
        "print('Precision:', precision)\n",
        "print('Recall:', recall)\n",
        "print('F1 Score:', f1)\n",
        "print('Confusion Matrix:\\n', conf_matrix)\n"
      ]
    },
    {
      "cell_type": "markdown",
      "metadata": {
        "id": "4_uwJ_XyGRDU"
      },
      "source": [
        "**confusion matrix**"
      ]
    },
    {
      "cell_type": "code",
      "execution_count": 150,
      "metadata": {
        "colab": {
          "base_uri": "https://localhost:8080/"
        },
        "id": "PH8yHFFlVLVi",
        "outputId": "0edd8ce0-3d22-4fb5-d0f5-adbc07f9568a"
      },
      "outputs": [
        {
          "name": "stdout",
          "output_type": "stream",
          "text": [
            "Confusion matrix\n",
            "\n",
            " [[   20   624]\n",
            " [   52 28396]]\n",
            "\n",
            "True Positives(TP) =  20\n",
            "\n",
            "True Negatives(TN) =  28396\n",
            "\n",
            "False Positives(FP) =  624\n",
            "\n",
            "False Negatives(FN) =  52\n"
          ]
        }
      ],
      "source": [
        "from sklearn.metrics import confusion_matrix\n",
        "\n",
        "cm = confusion_matrix(y_test, y_pred)\n",
        "\n",
        "print('Confusion matrix\\n\\n', cm)\n",
        "\n",
        "print('\\nTrue Positives(TP) = ', cm[0,0])\n",
        "\n",
        "print('\\nTrue Negatives(TN) = ', cm[1,1])\n",
        "\n",
        "print('\\nFalse Positives(FP) = ', cm[0,1])\n",
        "\n",
        "print('\\nFalse Negatives(FN) = ', cm[1,0])"
      ]
    },
    {
      "cell_type": "markdown",
      "metadata": {},
      "source": [
        "# new data prediction"
      ]
    },
    {
      "cell_type": "code",
      "execution_count": 151,
      "metadata": {},
      "outputs": [
        {
          "data": {
            "text/plain": [
              "array([[6.75742574e-01, 5.38752363e-01, 5.44069641e-04, 3.44827586e-02,\n",
              "        5.03448276e-01, 3.56589147e-01, 2.38461538e-01, 3.37349398e-01,\n",
              "        7.40000000e-01, 7.30000000e-01, 5.96694215e-01, 5.88800000e-01,\n",
              "        5.55555556e-01, 8.75000000e-01, 6.03375527e-01, 5.29750480e-01,\n",
              "        7.00000000e-01, 1.81818182e-01, 3.66666667e-01, 0.00000000e+00,\n",
              "        0.00000000e+00, 0.00000000e+00, 0.00000000e+00, 0.00000000e+00,\n",
              "        0.00000000e+00, 0.00000000e+00, 0.00000000e+00, 0.00000000e+00,\n",
              "        0.00000000e+00, 0.00000000e+00, 0.00000000e+00, 0.00000000e+00,\n",
              "        0.00000000e+00, 0.00000000e+00, 0.00000000e+00, 0.00000000e+00,\n",
              "        0.00000000e+00, 0.00000000e+00, 0.00000000e+00, 0.00000000e+00,\n",
              "        0.00000000e+00, 0.00000000e+00, 0.00000000e+00, 0.00000000e+00,\n",
              "        0.00000000e+00, 0.00000000e+00, 1.00000000e+00, 0.00000000e+00,\n",
              "        0.00000000e+00, 0.00000000e+00, 0.00000000e+00, 0.00000000e+00,\n",
              "        0.00000000e+00, 0.00000000e+00, 0.00000000e+00, 0.00000000e+00,\n",
              "        0.00000000e+00, 0.00000000e+00, 0.00000000e+00, 0.00000000e+00,\n",
              "        0.00000000e+00, 0.00000000e+00, 0.00000000e+00, 0.00000000e+00,\n",
              "        0.00000000e+00, 0.00000000e+00, 0.00000000e+00, 0.00000000e+00,\n",
              "        0.00000000e+00, 0.00000000e+00, 1.00000000e+00, 0.00000000e+00,\n",
              "        0.00000000e+00, 0.00000000e+00, 0.00000000e+00, 0.00000000e+00,\n",
              "        0.00000000e+00, 0.00000000e+00, 0.00000000e+00, 0.00000000e+00,\n",
              "        0.00000000e+00, 0.00000000e+00, 0.00000000e+00, 0.00000000e+00,\n",
              "        0.00000000e+00, 0.00000000e+00, 1.00000000e+00, 0.00000000e+00,\n",
              "        0.00000000e+00, 0.00000000e+00, 0.00000000e+00, 0.00000000e+00,\n",
              "        0.00000000e+00, 0.00000000e+00, 0.00000000e+00, 0.00000000e+00,\n",
              "        0.00000000e+00, 0.00000000e+00, 0.00000000e+00, 0.00000000e+00,\n",
              "        0.00000000e+00, 0.00000000e+00, 1.00000000e+00, 0.00000000e+00,\n",
              "        0.00000000e+00, 0.00000000e+00, 0.00000000e+00, 0.00000000e+00,\n",
              "        0.00000000e+00, 0.00000000e+00, 0.00000000e+00, 0.00000000e+00,\n",
              "        0.00000000e+00, 0.00000000e+00, 0.00000000e+00, 0.00000000e+00,\n",
              "        1.00000000e+00, 0.00000000e+00]])"
            ]
          },
          "execution_count": 151,
          "metadata": {},
          "output_type": "execute_result"
        }
      ],
      "source": [
        "X_train[0].reshape(1,-1)"
      ]
    },
    {
      "cell_type": "code",
      "execution_count": 152,
      "metadata": {},
      "outputs": [
        {
          "name": "stderr",
          "output_type": "stream",
          "text": [
            "c:\\Users\\faruk\\anaconda3\\Lib\\site-packages\\sklearn\\base.py:465: UserWarning: X does not have valid feature names, but MinMaxScaler was fitted with feature names\n",
            "  warnings.warn(\n"
          ]
        },
        {
          "data": {
            "text/plain": [
              "array([[ 2.27122341e-01,  1.00921595e-01,  1.48005887e-06,\n",
              "         2.37812128e-04,  3.47205707e-02, -4.37473710e-02,\n",
              "         1.83431953e-03,  4.06445057e-03,  7.40000000e-03,\n",
              "         7.30000000e-03, -1.61967489e+01, -1.56241792e+01,\n",
              "         6.17283951e-02,  1.09375000e-01,  1.64628176e-01,\n",
              "         1.13814788e-01, -2.00630000e+02, -7.43801653e-02,\n",
              "        -2.11111111e-02,  0.00000000e+00,  0.00000000e+00,\n",
              "         0.00000000e+00,  0.00000000e+00,  0.00000000e+00,\n",
              "         0.00000000e+00,  0.00000000e+00,  0.00000000e+00,\n",
              "         0.00000000e+00,  0.00000000e+00,  0.00000000e+00,\n",
              "         0.00000000e+00,  0.00000000e+00,  0.00000000e+00,\n",
              "         0.00000000e+00,  0.00000000e+00,  0.00000000e+00,\n",
              "         0.00000000e+00,  0.00000000e+00,  0.00000000e+00,\n",
              "         0.00000000e+00,  0.00000000e+00,  0.00000000e+00,\n",
              "         0.00000000e+00,  0.00000000e+00,  0.00000000e+00,\n",
              "         0.00000000e+00,  1.00000000e+00,  0.00000000e+00,\n",
              "         0.00000000e+00,  0.00000000e+00,  0.00000000e+00,\n",
              "         0.00000000e+00,  0.00000000e+00,  0.00000000e+00,\n",
              "         0.00000000e+00,  0.00000000e+00,  0.00000000e+00,\n",
              "         0.00000000e+00,  0.00000000e+00,  0.00000000e+00,\n",
              "         0.00000000e+00,  0.00000000e+00,  0.00000000e+00,\n",
              "         0.00000000e+00,  0.00000000e+00,  0.00000000e+00,\n",
              "         0.00000000e+00,  0.00000000e+00,  0.00000000e+00,\n",
              "         0.00000000e+00,  1.00000000e+00,  0.00000000e+00,\n",
              "         0.00000000e+00,  0.00000000e+00,  0.00000000e+00,\n",
              "         0.00000000e+00,  0.00000000e+00,  0.00000000e+00,\n",
              "         0.00000000e+00,  0.00000000e+00,  0.00000000e+00,\n",
              "         0.00000000e+00,  0.00000000e+00,  0.00000000e+00,\n",
              "         0.00000000e+00,  0.00000000e+00,  1.00000000e+00,\n",
              "         0.00000000e+00,  0.00000000e+00,  0.00000000e+00,\n",
              "         0.00000000e+00,  0.00000000e+00,  0.00000000e+00,\n",
              "         0.00000000e+00,  0.00000000e+00,  0.00000000e+00,\n",
              "         0.00000000e+00,  0.00000000e+00,  0.00000000e+00,\n",
              "         0.00000000e+00,  0.00000000e+00,  0.00000000e+00,\n",
              "         1.00000000e+00,  0.00000000e+00,  0.00000000e+00,\n",
              "         0.00000000e+00,  0.00000000e+00,  0.00000000e+00,\n",
              "         0.00000000e+00,  0.00000000e+00,  0.00000000e+00,\n",
              "         0.00000000e+00,  0.00000000e+00,  0.00000000e+00,\n",
              "         0.00000000e+00,  0.00000000e+00,  1.00000000e+00,\n",
              "         0.00000000e+00]])"
            ]
          },
          "execution_count": 152,
          "metadata": {},
          "output_type": "execute_result"
        }
      ],
      "source": [
        "##transformation of new data\n",
        "scaler.transform(X_train[0].reshape(1,-1))"
      ]
    },
    {
      "cell_type": "code",
      "execution_count": 153,
      "metadata": {},
      "outputs": [
        {
          "name": "stderr",
          "output_type": "stream",
          "text": [
            "c:\\Users\\faruk\\anaconda3\\Lib\\site-packages\\sklearn\\base.py:465: UserWarning: X does not have valid feature names, but MinMaxScaler was fitted with feature names\n",
            "  warnings.warn(\n"
          ]
        },
        {
          "data": {
            "text/plain": [
              "array([ True])"
            ]
          },
          "execution_count": 153,
          "metadata": {},
          "output_type": "execute_result"
        }
      ],
      "source": [
        "clf.predict(scaler.transform(X_train[0].reshape(1,-1)))"
      ]
    },
    {
      "cell_type": "markdown",
      "metadata": {},
      "source": [
        "# Pickling The Model file For Deployment"
      ]
    },
    {
      "cell_type": "code",
      "execution_count": 154,
      "metadata": {},
      "outputs": [],
      "source": [
        "import pickle"
      ]
    },
    {
      "cell_type": "code",
      "execution_count": 155,
      "metadata": {},
      "outputs": [],
      "source": [
        "# Save the model to a pickle file\n",
        "with open('clfmodel.pkl', 'wb') as f:\n",
        "    pickle.dump(clf, f)"
      ]
    },
    {
      "cell_type": "code",
      "execution_count": 156,
      "metadata": {},
      "outputs": [],
      "source": [
        "# Load the model from the pickle file\n",
        "with open('clfmodel.pkl', 'rb') as f:\n",
        "    pickled_model = pickle.load(f)"
      ]
    },
    {
      "cell_type": "code",
      "execution_count": 157,
      "metadata": {},
      "outputs": [
        {
          "name": "stdout",
          "output_type": "stream",
          "text": [
            "Prediction: [ True]\n"
          ]
        },
        {
          "name": "stderr",
          "output_type": "stream",
          "text": [
            "c:\\Users\\faruk\\anaconda3\\Lib\\site-packages\\sklearn\\base.py:465: UserWarning: X does not have valid feature names, but MinMaxScaler was fitted with feature names\n",
            "  warnings.warn(\n"
          ]
        }
      ],
      "source": [
        "## Prediction\n",
        "# Perform prediction using the loaded model and a scaler\n",
        "prediction = pickled_model.predict(scaler.transform(X_train[0].reshape(1, -1)))\n",
        "\n",
        "print(\"Prediction:\", prediction)"
      ]
    },
    {
      "cell_type": "markdown",
      "metadata": {},
      "source": []
    }
  ],
  "metadata": {
    "colab": {
      "provenance": []
    },
    "kernelspec": {
      "display_name": "Python 3",
      "name": "python3"
    },
    "language_info": {
      "codemirror_mode": {
        "name": "ipython",
        "version": 3
      },
      "file_extension": ".py",
      "mimetype": "text/x-python",
      "name": "python",
      "nbconvert_exporter": "python",
      "pygments_lexer": "ipython3",
      "version": "3.11.5"
    }
  },
  "nbformat": 4,
  "nbformat_minor": 0
}
